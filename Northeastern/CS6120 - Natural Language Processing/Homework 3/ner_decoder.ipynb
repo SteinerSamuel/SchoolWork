{
  "nbformat": 4,
  "nbformat_minor": 0,
  "metadata": {
    "colab": {
      "name": "ner-decoder.ipynb",
      "provenance": [],
      "collapsed_sections": [],
      "include_colab_link": true
    },
    "kernelspec": {
      "name": "python3",
      "display_name": "Python 3",
      "language": "python"
    },
    "accelerator": "GPU"
  },
  "cells": [
    {
      "cell_type": "markdown",
      "metadata": {
        "id": "view-in-github",
        "colab_type": "text"
      },
      "source": [
        "<a href=\"https://colab.research.google.com/github/dasmiq/CS6120-PS3/blob/master/ner_decoder.ipynb\" target=\"_parent\"><img src=\"https://colab.research.google.com/assets/colab-badge.svg\" alt=\"Open In Colab\"/></a>"
      ]
    },
    {
      "cell_type": "markdown",
      "metadata": {
        "id": "IsY0LJOIT_cG"
      },
      "source": [
        "# Implementing a Viterbi Decoder and Evaluation for Sequence Labeling\n",
        "\n",
        "In this assignment, you will build a Viterbi decoder for an LSTM named-entity recognition model. As we mentioned in class, recurrent and bidirectional recurrent neural networks, of which LSTMs are the most common examples, can be used to perform sequence labeling. Although these models encode information from the surrounding words in order to make predictions, there are no \"hard\" constraints on what tags can appear where.\n",
        "\n",
        "There hard constraints are particularly important for tasks that label spans of more than one token. The most common example of a span-labeling task is named-entity recognition (NER). As described in Eisenstein, Jurafksy & Martin, and other texts, the goal of NER is to label spans of one or more words as _mentions_ of an _entity_, such as a person, location, organization, etc.\n",
        "\n",
        "The most common approach to NER is to reduce it to a sequence-labeling task, where each token in the input is labeled either with an `O`, if it is \"outside\" any named-entity span, or with `B-TYPE`, if it is the first token in an entity of type `TYPE`, or with `I-TYPE`, if it is the second or later token in an entity of type `TYPE`. Distinguishing between the first and later tokens of an entity allow us to identify distinct entity spans even when they are adjacent.\n",
        "\n",
        "Common values of `TYPE` include `PER` for person, `LOC` for location, `DATE` for date, and so on. In the dataset we load below, there are 17 distinct types.\n",
        "\n",
        "The span-labeling scheme just described implies that the labels on tokens must obey certain constraints: the tag `I-PER` must follow either `B-PER` or another `I-PER`. It cannot follow `O`, `B-LOC`, or `I-LOC`, i.e., a tag for a different entity type. By themselves, LSTMs or bidirectional LSTMs cannot directly enforce these constraints. This is one reason why conditional random fields (CRFs), which _can_ enforce these constraints, are often layered on top of these recurrent models.\n",
        "\n",
        "In this assignment, you will implement the simplest possible CRF: a CRF so simple that it does not require any training. Rather, it will assign weight 1 to any sequence of tags that obeys the constraints and weight 0 to any sequence of tags that violates them. The inputs to the CRF, which are analogous to the emission probabilities in an HMM, will come from an LSTM.\n",
        "\n",
        "But first, in order to test your decoder, you will also implement some functions to evaluate the output of an NER system according to two metrics:\n",
        "1. You will count the number of _violations_ of the NER label constraints, i.e., how many times `I-TYPE` follows `O` or a tag of a different type or occurs at the beginning of a sentence. This number will be greater than 0 in the raw LSTM output, but should be 0 for your CRF output.\n",
        "1. You will compute the _span-level_ precision, recall, and F1 of NER output. Although the baseline LSTM was trained to achieve high _token-level_ accuracy, this metric can be misleadingly high, since so many tokens are correctly labeled `O`. In other words, what proportion of spans predicted by the model line up exactly with spans in the gold standard, and what proportion of spans in the gold standard were predicted by the model? Define _span_ as a sequence of tags that starts with a `B-TYPE` followed by zero or more `I-TYPE` tags. Sequences solely of `I-TYPE` tags don't count as spans.For more, see the original task definition: https://www.aclweb.org/anthology/W03-0419/.\n",
        "\n",
        "We start with loading some code and data and the describe your tasks in more detail."
      ]
    },
    {
      "cell_type": "markdown",
      "metadata": {
        "id": "Dhnn49QEU_Ik"
      },
      "source": [
        "## Set Up Dependencies and Definitions"
      ]
    },
    {
      "cell_type": "code",
      "metadata": {
        "id": "QJINX1MwOLBT"
      },
      "source": [
        "!pip install --upgrade spacy==2.1.0 allennlp==0.9.0\n",
        "import spacy\n",
        "print(spacy.__version__)"
      ],
      "execution_count": 1,
      "outputs": [
        {
          "output_type": "stream",
          "name": "stdout",
          "text": [
            "Requirement already up-to-date: spacy==2.1.0 in c:\\tools\\anaconda3\\lib\\site-packages (2.1.0)\n",
            "Requirement already up-to-date: allennlp==0.9.0 in c:\\tools\\anaconda3\\lib\\site-packages (0.9.0)\n",
            "Requirement already satisfied, skipping upgrade: srsly<1.1.0,>=0.0.5 in c:\\tools\\anaconda3\\lib\\site-packages (from spacy==2.1.0) (1.0.5)\n",
            "Requirement already satisfied, skipping upgrade: jsonschema<3.0.0,>=2.6.0 in c:\\tools\\anaconda3\\lib\\site-packages (from spacy==2.1.0) (2.6.0)\n",
            "Requirement already satisfied, skipping upgrade: numpy>=1.15.0 in c:\\tools\\anaconda3\\lib\\site-packages (from spacy==2.1.0) (1.18.5)\n",
            "Requirement already satisfied, skipping upgrade: plac<1.0.0,>=0.9.6 in c:\\tools\\anaconda3\\lib\\site-packages (from spacy==2.1.0) (0.9.6)\n",
            "Requirement already satisfied, skipping upgrade: requests<3.0.0,>=2.13.0 in c:\\tools\\anaconda3\\lib\\site-packages (from spacy==2.1.0) (2.24.0)\n",
            "Requirement already satisfied, skipping upgrade: thinc<7.1.0,>=7.0.2 in c:\\tools\\anaconda3\\lib\\site-packages (from spacy==2.1.0) (7.0.8)\n",
            "Requirement already satisfied, skipping upgrade: cymem<2.1.0,>=2.0.2 in c:\\tools\\anaconda3\\lib\\site-packages (from spacy==2.1.0) (2.0.5)\n",
            "Requirement already satisfied, skipping upgrade: blis<0.3.0,>=0.2.2 in c:\\tools\\anaconda3\\lib\\site-packages (from spacy==2.1.0) (0.2.4)\n",
            "Requirement already satisfied, skipping upgrade: wasabi<1.1.0,>=0.0.12 in c:\\tools\\anaconda3\\lib\\site-packages (from spacy==2.1.0) (0.8.0)\n",
            "Requirement already satisfied, skipping upgrade: murmurhash<1.1.0,>=0.28.0 in c:\\tools\\anaconda3\\lib\\site-packages (from spacy==2.1.0) (1.0.5)\n",
            "Requirement already satisfied, skipping upgrade: preshed<2.1.0,>=2.0.1 in c:\\tools\\anaconda3\\lib\\site-packages (from spacy==2.1.0) (2.0.1)\n",
            "Requirement already satisfied, skipping upgrade: sqlparse>=0.2.4 in c:\\tools\\anaconda3\\lib\\site-packages (from allennlp==0.9.0) (0.4.1)\n",
            "Requirement already satisfied, skipping upgrade: editdistance in c:\\tools\\anaconda3\\lib\\site-packages (from allennlp==0.9.0) (0.5.3)\n",
            "Requirement already satisfied, skipping upgrade: pytorch-pretrained-bert>=0.6.0 in c:\\tools\\anaconda3\\lib\\site-packages (from allennlp==0.9.0) (0.6.2)\n",
            "Requirement already satisfied, skipping upgrade: nltk in c:\\tools\\anaconda3\\lib\\site-packages (from allennlp==0.9.0) (3.5)\n",
            "Requirement already satisfied, skipping upgrade: numpydoc>=0.8.0 in c:\\tools\\anaconda3\\lib\\site-packages (from allennlp==0.9.0) (1.1.0)\n",
            "Requirement already satisfied, skipping upgrade: torch>=1.2.0 in c:\\tools\\anaconda3\\lib\\site-packages (from allennlp==0.9.0) (1.7.0)\n",
            "Requirement already satisfied, skipping upgrade: matplotlib>=2.2.3 in c:\\tools\\anaconda3\\lib\\site-packages (from allennlp==0.9.0) (3.3.2)\n",
            "Requirement already satisfied, skipping upgrade: jsonpickle in c:\\tools\\anaconda3\\lib\\site-packages (from allennlp==0.9.0) (1.4.2)\n",
            "Requirement already satisfied, skipping upgrade: pytorch-transformers==1.1.0 in c:\\tools\\anaconda3\\lib\\site-packages (from allennlp==0.9.0) (1.1.0)\n",
            "Requirement already satisfied, skipping upgrade: scipy in c:\\tools\\anaconda3\\lib\\site-packages (from allennlp==0.9.0) (1.5.2)\n",
            "Requirement already satisfied, skipping upgrade: parsimonious>=0.8.0 in c:\\tools\\anaconda3\\lib\\site-packages (from allennlp==0.9.0) (0.8.1)\n",
            "Requirement already satisfied, skipping upgrade: flask-cors>=3.0.7 in c:\\tools\\anaconda3\\lib\\site-packages (from allennlp==0.9.0) (3.0.9)\n",
            "Requirement already satisfied, skipping upgrade: responses>=0.7 in c:\\tools\\anaconda3\\lib\\site-packages (from allennlp==0.9.0) (0.12.1)\n",
            "Requirement already satisfied, skipping upgrade: unidecode in c:\\tools\\anaconda3\\lib\\site-packages (from allennlp==0.9.0) (1.1.1)\n",
            "Requirement already satisfied, skipping upgrade: h5py in c:\\tools\\anaconda3\\lib\\site-packages (from allennlp==0.9.0) (2.10.0)\n",
            "Requirement already satisfied, skipping upgrade: boto3 in c:\\tools\\anaconda3\\lib\\site-packages (from allennlp==0.9.0) (1.16.32)\n",
            "Requirement already satisfied, skipping upgrade: overrides in c:\\tools\\anaconda3\\lib\\site-packages (from allennlp==0.9.0) (3.1.0)\n",
            "Requirement already satisfied, skipping upgrade: conllu==1.3.1 in c:\\tools\\anaconda3\\lib\\site-packages (from allennlp==0.9.0) (1.3.1)\n",
            "Requirement already satisfied, skipping upgrade: flask>=1.0.2 in c:\\tools\\anaconda3\\lib\\site-packages (from allennlp==0.9.0) (1.1.2)\n",
            "Requirement already satisfied, skipping upgrade: pytz>=2017.3 in c:\\tools\\anaconda3\\lib\\site-packages (from allennlp==0.9.0) (2020.1)\n",
            "Requirement already satisfied, skipping upgrade: tensorboardX>=1.2 in c:\\tools\\anaconda3\\lib\\site-packages (from allennlp==0.9.0) (2.1)\n",
            "Requirement already satisfied, skipping upgrade: word2number>=1.1 in c:\\tools\\anaconda3\\lib\\site-packages (from allennlp==0.9.0) (1.1)\n",
            "Requirement already satisfied, skipping upgrade: pytest in c:\\tools\\anaconda3\\lib\\site-packages (from allennlp==0.9.0) (0.0.0)\n",
            "Requirement already satisfied, skipping upgrade: gevent>=1.3.6 in c:\\tools\\anaconda3\\lib\\site-packages (from allennlp==0.9.0) (20.9.0)\n",
            "Requirement already satisfied, skipping upgrade: flaky in c:\\tools\\anaconda3\\lib\\site-packages (from allennlp==0.9.0) (3.7.0)\n",
            "Requirement already satisfied, skipping upgrade: scikit-learn in c:\\tools\\anaconda3\\lib\\site-packages (from allennlp==0.9.0) (0.23.2)\n",
            "Requirement already satisfied, skipping upgrade: ftfy in c:\\tools\\anaconda3\\lib\\site-packages (from allennlp==0.9.0) (5.8)\n",
            "Requirement already satisfied, skipping upgrade: tqdm>=4.19 in c:\\tools\\anaconda3\\lib\\site-packages (from allennlp==0.9.0) (4.50.2)\n",
            "Requirement already satisfied, skipping upgrade: certifi>=2017.4.17 in c:\\tools\\anaconda3\\lib\\site-packages (from requests<3.0.0,>=2.13.0->spacy==2.1.0) (2020.6.20)\n",
            "Requirement already satisfied, skipping upgrade: chardet<4,>=3.0.2 in c:\\tools\\anaconda3\\lib\\site-packages (from requests<3.0.0,>=2.13.0->spacy==2.1.0) (3.0.4)\n",
            "Requirement already satisfied, skipping upgrade: idna<3,>=2.5 in c:\\tools\\anaconda3\\lib\\site-packages (from requests<3.0.0,>=2.13.0->spacy==2.1.0) (2.10)\n",
            "Requirement already satisfied, skipping upgrade: urllib3!=1.25.0,!=1.25.1,<1.26,>=1.21.1 in c:\\tools\\anaconda3\\lib\\site-packages (from requests<3.0.0,>=2.13.0->spacy==2.1.0) (1.25.11)\n",
            "Requirement already satisfied, skipping upgrade: regex in c:\\tools\\anaconda3\\lib\\site-packages (from pytorch-pretrained-bert>=0.6.0->allennlp==0.9.0) (2020.10.15)\n",
            "Requirement already satisfied, skipping upgrade: joblib in c:\\tools\\anaconda3\\lib\\site-packages (from nltk->allennlp==0.9.0) (0.17.0)\n",
            "Requirement already satisfied, skipping upgrade: click in c:\\tools\\anaconda3\\lib\\site-packages (from nltk->allennlp==0.9.0) (7.1.2)\n",
            "Requirement already satisfied, skipping upgrade: sphinx>=1.6.5 in c:\\tools\\anaconda3\\lib\\site-packages (from numpydoc>=0.8.0->allennlp==0.9.0) (3.2.1)\n",
            "Requirement already satisfied, skipping upgrade: Jinja2>=2.3 in c:\\tools\\anaconda3\\lib\\site-packages (from numpydoc>=0.8.0->allennlp==0.9.0) (2.11.2)\n",
            "Requirement already satisfied, skipping upgrade: future in c:\\tools\\anaconda3\\lib\\site-packages (from torch>=1.2.0->allennlp==0.9.0) (0.18.2)\n",
            "Requirement already satisfied, skipping upgrade: typing_extensions in c:\\tools\\anaconda3\\lib\\site-packages (from torch>=1.2.0->allennlp==0.9.0) (3.7.4.3)\n",
            "Requirement already satisfied, skipping upgrade: dataclasses in c:\\tools\\anaconda3\\lib\\site-packages (from torch>=1.2.0->allennlp==0.9.0) (0.6)\n",
            "Requirement already satisfied, skipping upgrade: cycler>=0.10 in c:\\tools\\anaconda3\\lib\\site-packages (from matplotlib>=2.2.3->allennlp==0.9.0) (0.10.0)\n",
            "Requirement already satisfied, skipping upgrade: python-dateutil>=2.1 in c:\\tools\\anaconda3\\lib\\site-packages (from matplotlib>=2.2.3->allennlp==0.9.0) (2.8.1)\n",
            "Requirement already satisfied, skipping upgrade: pyparsing!=2.0.4,!=2.1.2,!=2.1.6,>=2.0.3 in c:\\tools\\anaconda3\\lib\\site-packages (from matplotlib>=2.2.3->allennlp==0.9.0) (2.4.7)\n",
            "Requirement already satisfied, skipping upgrade: kiwisolver>=1.0.1 in c:\\tools\\anaconda3\\lib\\site-packages (from matplotlib>=2.2.3->allennlp==0.9.0) (1.3.0)\n",
            "Requirement already satisfied, skipping upgrade: pillow>=6.2.0 in c:\\tools\\anaconda3\\lib\\site-packages (from matplotlib>=2.2.3->allennlp==0.9.0) (8.0.1)\n",
            "Requirement already satisfied, skipping upgrade: importlib-metadata; python_version < \"3.8\" in c:\\tools\\anaconda3\\lib\\site-packages (from jsonpickle->allennlp==0.9.0) (2.0.0)\n",
            "Requirement already satisfied, skipping upgrade: sentencepiece in c:\\tools\\anaconda3\\lib\\site-packages (from pytorch-transformers==1.1.0->allennlp==0.9.0) (0.1.94)\n",
            "Requirement already satisfied, skipping upgrade: six>=1.9.0 in c:\\tools\\anaconda3\\lib\\site-packages (from parsimonious>=0.8.0->allennlp==0.9.0) (1.15.0)\n",
            "Requirement already satisfied, skipping upgrade: botocore<1.20.0,>=1.19.32 in c:\\tools\\anaconda3\\lib\\site-packages (from boto3->allennlp==0.9.0) (1.19.32)\n",
            "Requirement already satisfied, skipping upgrade: jmespath<1.0.0,>=0.7.1 in c:\\tools\\anaconda3\\lib\\site-packages (from boto3->allennlp==0.9.0) (0.10.0)\n",
            "Requirement already satisfied, skipping upgrade: s3transfer<0.4.0,>=0.3.0 in c:\\tools\\anaconda3\\lib\\site-packages (from boto3->allennlp==0.9.0) (0.3.3)\n",
            "Requirement already satisfied, skipping upgrade: itsdangerous>=0.24 in c:\\tools\\anaconda3\\lib\\site-packages (from flask>=1.0.2->allennlp==0.9.0) (1.1.0)\n",
            "Requirement already satisfied, skipping upgrade: Werkzeug>=0.15 in c:\\tools\\anaconda3\\lib\\site-packages (from flask>=1.0.2->allennlp==0.9.0) (1.0.1)\n",
            "Requirement already satisfied, skipping upgrade: protobuf>=3.8.0 in c:\\users\\sam\\appdata\\roaming\\python\\python37\\site-packages (from tensorboardX>=1.2->allennlp==0.9.0) (3.14.0)\n",
            "Requirement already satisfied, skipping upgrade: attrs>=17.4.0 in c:\\tools\\anaconda3\\lib\\site-packages (from pytest->allennlp==0.9.0) (20.3.0)\n",
            "Requirement already satisfied, skipping upgrade: iniconfig in c:\\tools\\anaconda3\\lib\\site-packages (from pytest->allennlp==0.9.0) (1.1.1)\n",
            "Requirement already satisfied, skipping upgrade: packaging in c:\\tools\\anaconda3\\lib\\site-packages (from pytest->allennlp==0.9.0) (20.4)\n",
            "Requirement already satisfied, skipping upgrade: pluggy<1.0,>=0.12 in c:\\tools\\anaconda3\\lib\\site-packages (from pytest->allennlp==0.9.0) (0.13.1)\n",
            "Requirement already satisfied, skipping upgrade: py>=1.8.2 in c:\\tools\\anaconda3\\lib\\site-packages (from pytest->allennlp==0.9.0) (1.9.0)\n",
            "Requirement already satisfied, skipping upgrade: toml in c:\\tools\\anaconda3\\lib\\site-packages (from pytest->allennlp==0.9.0) (0.10.1)\n",
            "Requirement already satisfied, skipping upgrade: atomicwrites>=1.0 in c:\\tools\\anaconda3\\lib\\site-packages (from pytest->allennlp==0.9.0) (1.4.0)\n",
            "Requirement already satisfied, skipping upgrade: colorama in c:\\tools\\anaconda3\\lib\\site-packages (from pytest->allennlp==0.9.0) (0.4.4)\n",
            "Requirement already satisfied, skipping upgrade: zope.interface in c:\\tools\\anaconda3\\lib\\site-packages (from gevent>=1.3.6->allennlp==0.9.0) (5.1.2)\n",
            "Requirement already satisfied, skipping upgrade: zope.event in c:\\tools\\anaconda3\\lib\\site-packages (from gevent>=1.3.6->allennlp==0.9.0) (4.5.0)\n",
            "Requirement already satisfied, skipping upgrade: cffi>=1.12.2; platform_python_implementation == \"CPython\" and sys_platform == \"win32\" in c:\\tools\\anaconda3\\lib\\site-packages (from gevent>=1.3.6->allennlp==0.9.0) (1.14.3)\n",
            "Requirement already satisfied, skipping upgrade: greenlet>=0.4.17; platform_python_implementation == \"CPython\" in c:\\tools\\anaconda3\\lib\\site-packages (from gevent>=1.3.6->allennlp==0.9.0) (0.4.17)\n",
            "Requirement already satisfied, skipping upgrade: setuptools in c:\\tools\\anaconda3\\lib\\site-packages (from gevent>=1.3.6->allennlp==0.9.0) (50.3.1.post20201107)\n",
            "Requirement already satisfied, skipping upgrade: threadpoolctl>=2.0.0 in c:\\tools\\anaconda3\\lib\\site-packages (from scikit-learn->allennlp==0.9.0) (2.1.0)\n",
            "Requirement already satisfied, skipping upgrade: wcwidth in c:\\tools\\anaconda3\\lib\\site-packages (from ftfy->allennlp==0.9.0) (0.2.5)\n",
            "Requirement already satisfied, skipping upgrade: alabaster<0.8,>=0.7 in c:\\tools\\anaconda3\\lib\\site-packages (from sphinx>=1.6.5->numpydoc>=0.8.0->allennlp==0.9.0) (0.7.12)\n",
            "Requirement already satisfied, skipping upgrade: snowballstemmer>=1.1 in c:\\tools\\anaconda3\\lib\\site-packages (from sphinx>=1.6.5->numpydoc>=0.8.0->allennlp==0.9.0) (2.0.0)\n",
            "Requirement already satisfied, skipping upgrade: sphinxcontrib-qthelp in c:\\tools\\anaconda3\\lib\\site-packages (from sphinx>=1.6.5->numpydoc>=0.8.0->allennlp==0.9.0) (1.0.3)\n",
            "Requirement already satisfied, skipping upgrade: sphinxcontrib-jsmath in c:\\tools\\anaconda3\\lib\\site-packages (from sphinx>=1.6.5->numpydoc>=0.8.0->allennlp==0.9.0) (1.0.1)\n",
            "Requirement already satisfied, skipping upgrade: sphinxcontrib-serializinghtml in c:\\tools\\anaconda3\\lib\\site-packages (from sphinx>=1.6.5->numpydoc>=0.8.0->allennlp==0.9.0) (1.1.4)\n",
            "Requirement already satisfied, skipping upgrade: imagesize in c:\\tools\\anaconda3\\lib\\site-packages (from sphinx>=1.6.5->numpydoc>=0.8.0->allennlp==0.9.0) (1.2.0)\n",
            "Requirement already satisfied, skipping upgrade: sphinxcontrib-htmlhelp in c:\\tools\\anaconda3\\lib\\site-packages (from sphinx>=1.6.5->numpydoc>=0.8.0->allennlp==0.9.0) (1.0.3)\n",
            "Requirement already satisfied, skipping upgrade: babel>=1.3 in c:\\tools\\anaconda3\\lib\\site-packages (from sphinx>=1.6.5->numpydoc>=0.8.0->allennlp==0.9.0) (2.8.0)\n",
            "Requirement already satisfied, skipping upgrade: Pygments>=2.0 in c:\\tools\\anaconda3\\lib\\site-packages (from sphinx>=1.6.5->numpydoc>=0.8.0->allennlp==0.9.0) (2.7.2)\n",
            "Requirement already satisfied, skipping upgrade: docutils>=0.12 in c:\\tools\\anaconda3\\lib\\site-packages (from sphinx>=1.6.5->numpydoc>=0.8.0->allennlp==0.9.0) (0.16)\n",
            "Requirement already satisfied, skipping upgrade: sphinxcontrib-applehelp in c:\\tools\\anaconda3\\lib\\site-packages (from sphinx>=1.6.5->numpydoc>=0.8.0->allennlp==0.9.0) (1.0.2)\n",
            "Requirement already satisfied, skipping upgrade: sphinxcontrib-devhelp in c:\\tools\\anaconda3\\lib\\site-packages (from sphinx>=1.6.5->numpydoc>=0.8.0->allennlp==0.9.0) (1.0.2)\n",
            "Requirement already satisfied, skipping upgrade: MarkupSafe>=0.23 in c:\\tools\\anaconda3\\lib\\site-packages (from Jinja2>=2.3->numpydoc>=0.8.0->allennlp==0.9.0) (1.1.1)\n",
            "Requirement already satisfied, skipping upgrade: zipp>=0.5 in c:\\tools\\anaconda3\\lib\\site-packages (from importlib-metadata; python_version < \"3.8\"->jsonpickle->allennlp==0.9.0) (3.4.0)\n",
            "Requirement already satisfied, skipping upgrade: pycparser in c:\\tools\\anaconda3\\lib\\site-packages (from cffi>=1.12.2; platform_python_implementation == \"CPython\" and sys_platform == \"win32\"->gevent>=1.3.6->allennlp==0.9.0) (2.20)\n",
            "2.1.0\n"
          ]
        }
      ]
    },
    {
      "cell_type": "code",
      "metadata": {
        "id": "f4zJfaIlJ2bv"
      },
      "source": [
        "from typing import Iterator, List, Dict\n",
        "import torch\n",
        "import torch.optim as optim\n",
        "import numpy as np\n",
        "import operator\n",
        "import math\n",
        "import re\n",
        "from allennlp.data import Instance\n",
        "from allennlp.data.fields import TextField, SequenceLabelField\n",
        "from allennlp.data.dataset_readers import DatasetReader\n",
        "from allennlp.common.file_utils import cached_path\n",
        "from allennlp.data.token_indexers import TokenIndexer, SingleIdTokenIndexer\n",
        "from allennlp.data.tokenizers import Token\n",
        "from allennlp.data.vocabulary import Vocabulary\n",
        "from allennlp.models import Model\n",
        "from allennlp.modules.text_field_embedders import TextFieldEmbedder, BasicTextFieldEmbedder\n",
        "from allennlp.modules.token_embedders import Embedding\n",
        "from allennlp.modules.seq2seq_encoders import Seq2SeqEncoder, PytorchSeq2SeqWrapper\n",
        "from allennlp.nn.util import get_text_field_mask, sequence_cross_entropy_with_logits\n",
        "from allennlp.training.metrics import CategoricalAccuracy\n",
        "from allennlp.data.iterators import BucketIterator\n",
        "from allennlp.training.trainer import Trainer\n",
        "from allennlp.predictors import SentenceTaggerPredictor\n",
        "from allennlp.data.dataset_readers import conll2003\n",
        "\n",
        "torch.manual_seed(1)"
      ],
      "execution_count": 194,
      "outputs": [
        {
          "output_type": "execute_result",
          "data": {
            "text/plain": [
              "<torch._C.Generator at 0x1780d421470>"
            ]
          },
          "metadata": {},
          "execution_count": 194
        }
      ]
    },
    {
      "cell_type": "code",
      "metadata": {
        "id": "Qo16Ko0Gchxk"
      },
      "source": [
        "class LstmTagger(Model):\n",
        "  def __init__(self,\n",
        "               word_embeddings: TextFieldEmbedder,\n",
        "               encoder: Seq2SeqEncoder,\n",
        "               vocab: Vocabulary) -> None:\n",
        "    super().__init__(vocab)\n",
        "    self.word_embeddings = word_embeddings\n",
        "    self.encoder = encoder\n",
        "    self.hidden2tag = torch.nn.Linear(in_features=encoder.get_output_dim(),\n",
        "                                      out_features=vocab.get_vocab_size('labels'))\n",
        "    self.accuracy = CategoricalAccuracy()\n",
        "\n",
        "  def forward(self,\n",
        "              tokens: Dict[str, torch.Tensor],\n",
        "              metadata,\n",
        "              tags: torch.Tensor = None) -> Dict[str, torch.Tensor]:\n",
        "    mask = get_text_field_mask(tokens)\n",
        "    embeddings = self.word_embeddings(tokens)\n",
        "    encoder_out = self.encoder(embeddings, mask)\n",
        "    tag_logits = self.hidden2tag(encoder_out)\n",
        "    output = {\"tag_logits\": tag_logits}\n",
        "    if tags is not None:\n",
        "      self.accuracy(tag_logits, tags, mask)\n",
        "      output[\"loss\"] = sequence_cross_entropy_with_logits(tag_logits, tags, mask)\n",
        "\n",
        "    return output\n",
        "\n",
        "  def get_metrics(self, reset: bool = False) -> Dict[str, float]:\n",
        "    return {\"accuracy\": self.accuracy.get_metric(reset)}"
      ],
      "execution_count": 3,
      "outputs": []
    },
    {
      "cell_type": "markdown",
      "metadata": {
        "id": "mVdKvPftVVLt"
      },
      "source": [
        "## Import Data"
      ]
    },
    {
      "cell_type": "code",
      "metadata": {
        "id": "5sOVVZslKm3N"
      },
      "source": [
        "reader = conll2003.Conll2003DatasetReader()\n",
        "train_dataset = reader.read(cached_path('http://www.ccs.neu.edu/home/dasmith/onto.train.ner.sample'))\n",
        "validation_dataset = reader.read(cached_path('http://www.ccs.neu.edu/home/dasmith/onto.development.ner.sample'))\n",
        "\n",
        "vocab = Vocabulary.from_instances(train_dataset + validation_dataset)"
      ],
      "execution_count": 4,
      "outputs": [
        {
          "output_type": "stream",
          "name": "stderr",
          "text": [
            "562it [00:00, 13704.88it/s]\n",
            "23it [00:00, 2090.38it/s]\n",
            "100%|██████████| 585/585 [00:00<00:00, 68815.01it/s]\n"
          ]
        }
      ]
    },
    {
      "cell_type": "markdown",
      "metadata": {
        "id": "wpg2Udr-Vnwm"
      },
      "source": [
        "## Define and Train Model"
      ]
    },
    {
      "cell_type": "code",
      "metadata": {
        "id": "8kDQQBMywdKx"
      },
      "source": [
        "EMBEDDING_DIM = 6\n",
        "HIDDEN_DIM = 6\n",
        "token_embedding = Embedding(num_embeddings=vocab.get_vocab_size('tokens'),\n",
        "                            embedding_dim=EMBEDDING_DIM)\n",
        "word_embeddings = BasicTextFieldEmbedder({\"tokens\": token_embedding})\n",
        "lstm = PytorchSeq2SeqWrapper(torch.nn.LSTM(EMBEDDING_DIM, HIDDEN_DIM, bidirectional=False, batch_first=True))\n",
        "model = LstmTagger(word_embeddings, lstm, vocab)\n",
        "if torch.cuda.is_available():\n",
        "    cuda_device = 0\n",
        "    model = model.cuda(cuda_device)\n",
        "else:\n",
        "    cuda_device = -1\n",
        "# optimizer = optim.AdamW(model.parameters(), lr=1e-4, eps=1e-8)\n",
        "optimizer = optim.SGD(model.parameters(), lr=0.1)\n",
        "iterator = BucketIterator(batch_size=2, sorting_keys=[(\"tokens\", \"num_tokens\")])\n",
        "iterator.index_with(vocab)\n",
        "trainer = Trainer(model=model,\n",
        "                  optimizer=optimizer,\n",
        "                  iterator=iterator,\n",
        "                  train_dataset=train_dataset,\n",
        "                  validation_dataset=validation_dataset,\n",
        "                  patience=10,\n",
        "                  num_epochs=100,\n",
        "                  cuda_device=cuda_device)\n",
        "trainer.train()"
      ],
      "execution_count": 5,
      "outputs": [
        {
          "output_type": "stream",
          "name": "stderr",
          "text": [
            "accuracy: 0.8442, loss: 0.9153 ||: 100%|██████████| 281/281 [00:02<00:00, 94.02it/s]\n",
            "accuracy: 0.7878, loss: 1.2134 ||: 100%|██████████| 12/12 [00:00<00:00, 275.81it/s]\n",
            "accuracy: 0.8442, loss: 0.7302 ||: 100%|██████████| 281/281 [00:01<00:00, 186.72it/s]\n",
            "accuracy: 0.7878, loss: 1.2023 ||: 100%|██████████| 12/12 [00:00<00:00, 311.63it/s]\n",
            "accuracy: 0.8442, loss: 0.7162 ||: 100%|██████████| 281/281 [00:01<00:00, 181.20it/s]\n",
            "accuracy: 0.7878, loss: 1.1760 ||: 100%|██████████| 12/12 [00:00<00:00, 333.28it/s]\n",
            "accuracy: 0.8442, loss: 0.7071 ||: 100%|██████████| 281/281 [00:01<00:00, 185.71it/s]\n",
            "accuracy: 0.7878, loss: 1.1728 ||: 100%|██████████| 12/12 [00:00<00:00, 333.27it/s]\n",
            "accuracy: 0.8442, loss: 0.6984 ||: 100%|██████████| 281/281 [00:01<00:00, 198.13it/s]\n",
            "accuracy: 0.7878, loss: 1.1806 ||: 100%|██████████| 12/12 [00:00<00:00, 347.77it/s]\n",
            "accuracy: 0.8442, loss: 0.6913 ||: 100%|██████████| 281/281 [00:01<00:00, 173.80it/s]\n",
            "accuracy: 0.7878, loss: 1.1707 ||: 100%|██████████| 12/12 [00:00<00:00, 328.71it/s]\n",
            "accuracy: 0.8442, loss: 0.6823 ||: 100%|██████████| 281/281 [00:01<00:00, 172.05it/s]\n",
            "accuracy: 0.7878, loss: 1.1420 ||: 100%|██████████| 12/12 [00:00<00:00, 299.96it/s]\n",
            "accuracy: 0.8442, loss: 0.6713 ||: 100%|██████████| 281/281 [00:01<00:00, 177.48it/s]\n",
            "accuracy: 0.7878, loss: 1.1412 ||: 100%|██████████| 12/12 [00:00<00:00, 311.63it/s]\n",
            "accuracy: 0.8442, loss: 0.6581 ||: 100%|██████████| 281/281 [00:01<00:00, 164.15it/s]\n",
            "accuracy: 0.7878, loss: 1.1091 ||: 100%|██████████| 12/12 [00:00<00:00, 260.83it/s]\n",
            "accuracy: 0.8442, loss: 0.6409 ||: 100%|██████████| 281/281 [00:01<00:00, 186.74it/s]\n",
            "accuracy: 0.7878, loss: 1.0990 ||: 100%|██████████| 12/12 [00:00<00:00, 307.64it/s]\n",
            "accuracy: 0.8442, loss: 0.6160 ||: 100%|██████████| 281/281 [00:01<00:00, 169.66it/s]\n",
            "accuracy: 0.7878, loss: 1.0503 ||: 100%|██████████| 12/12 [00:00<00:00, 328.71it/s]\n",
            "accuracy: 0.8442, loss: 0.5835 ||: 100%|██████████| 281/281 [00:01<00:00, 168.39it/s]\n",
            "accuracy: 0.7878, loss: 0.9842 ||: 100%|██████████| 12/12 [00:00<00:00, 358.15it/s]\n",
            "accuracy: 0.8451, loss: 0.5420 ||: 100%|██████████| 281/281 [00:01<00:00, 206.13it/s]\n",
            "accuracy: 0.7878, loss: 0.9281 ||: 100%|██████████| 12/12 [00:00<00:00, 363.57it/s]\n",
            "accuracy: 0.8559, loss: 0.5051 ||: 100%|██████████| 281/281 [00:01<00:00, 201.87it/s]\n",
            "accuracy: 0.7878, loss: 0.8733 ||: 100%|██████████| 12/12 [00:00<00:00, 352.88it/s]\n",
            "accuracy: 0.8593, loss: 0.4747 ||: 100%|██████████| 281/281 [00:01<00:00, 201.47it/s]\n",
            "accuracy: 0.7878, loss: 0.8357 ||: 100%|██████████| 12/12 [00:00<00:00, 369.18it/s]\n",
            "accuracy: 0.8598, loss: 0.4517 ||: 100%|██████████| 281/281 [00:01<00:00, 188.29it/s]\n",
            "accuracy: 0.7939, loss: 0.8113 ||: 100%|██████████| 12/12 [00:00<00:00, 275.81it/s]\n",
            "accuracy: 0.8615, loss: 0.4323 ||: 100%|██████████| 281/281 [00:01<00:00, 184.84it/s]\n",
            "accuracy: 0.7939, loss: 0.7817 ||: 100%|██████████| 12/12 [00:00<00:00, 337.97it/s]\n",
            "accuracy: 0.8622, loss: 0.4171 ||: 100%|██████████| 281/281 [00:01<00:00, 191.32it/s]\n",
            "accuracy: 0.7939, loss: 0.7809 ||: 100%|██████████| 12/12 [00:00<00:00, 342.79it/s]\n",
            "accuracy: 0.8624, loss: 0.4061 ||: 100%|██████████| 281/281 [00:01<00:00, 183.69it/s]\n",
            "accuracy: 0.7939, loss: 0.7638 ||: 100%|██████████| 12/12 [00:00<00:00, 328.72it/s]\n",
            "accuracy: 0.8634, loss: 0.3976 ||: 100%|██████████| 281/281 [00:01<00:00, 186.86it/s]\n",
            "accuracy: 0.7939, loss: 0.7679 ||: 100%|██████████| 12/12 [00:00<00:00, 311.63it/s]\n",
            "accuracy: 0.8635, loss: 0.3921 ||: 100%|██████████| 281/281 [00:01<00:00, 193.94it/s]\n",
            "accuracy: 0.7939, loss: 0.7419 ||: 100%|██████████| 12/12 [00:00<00:00, 315.73it/s]\n",
            "accuracy: 0.8643, loss: 0.3851 ||: 100%|██████████| 281/281 [00:01<00:00, 181.90it/s]\n",
            "accuracy: 0.7939, loss: 0.7140 ||: 100%|██████████| 12/12 [00:00<00:00, 342.79it/s]\n",
            "accuracy: 0.8650, loss: 0.3811 ||: 100%|██████████| 281/281 [00:01<00:00, 182.97it/s]\n",
            "accuracy: 0.7939, loss: 0.7429 ||: 100%|██████████| 12/12 [00:00<00:00, 307.64it/s]\n",
            "accuracy: 0.8654, loss: 0.3771 ||: 100%|██████████| 281/281 [00:01<00:00, 187.74it/s]\n",
            "accuracy: 0.7939, loss: 0.7419 ||: 100%|██████████| 12/12 [00:00<00:00, 352.88it/s]\n",
            "accuracy: 0.8654, loss: 0.3744 ||: 100%|██████████| 281/281 [00:01<00:00, 186.93it/s]\n",
            "accuracy: 0.7878, loss: 0.7072 ||: 100%|██████████| 12/12 [00:00<00:00, 337.97it/s]\n",
            "accuracy: 0.8668, loss: 0.3679 ||: 100%|██████████| 281/281 [00:01<00:00, 191.06it/s]\n",
            "accuracy: 0.7959, loss: 0.7156 ||: 100%|██████████| 12/12 [00:00<00:00, 333.28it/s]\n",
            "accuracy: 0.8693, loss: 0.3655 ||: 100%|██████████| 281/281 [00:01<00:00, 192.76it/s]\n",
            "accuracy: 0.8000, loss: 0.7123 ||: 100%|██████████| 12/12 [00:00<00:00, 333.28it/s]\n",
            "accuracy: 0.8688, loss: 0.3618 ||: 100%|██████████| 281/281 [00:01<00:00, 189.83it/s]\n",
            "accuracy: 0.7939, loss: 0.6973 ||: 100%|██████████| 12/12 [00:00<00:00, 289.11it/s]\n",
            "accuracy: 0.8718, loss: 0.3584 ||: 100%|██████████| 281/281 [00:01<00:00, 193.60it/s]\n",
            "accuracy: 0.8041, loss: 0.6934 ||: 100%|██████████| 12/12 [00:00<00:00, 337.98it/s]\n",
            "accuracy: 0.8723, loss: 0.3555 ||: 100%|██████████| 281/281 [00:01<00:00, 191.75it/s]\n",
            "accuracy: 0.8041, loss: 0.6912 ||: 100%|██████████| 12/12 [00:00<00:00, 347.75it/s]\n",
            "accuracy: 0.8741, loss: 0.3513 ||: 100%|██████████| 281/281 [00:01<00:00, 192.83it/s]\n",
            "accuracy: 0.8061, loss: 0.6847 ||: 100%|██████████| 12/12 [00:00<00:00, 358.15it/s]\n",
            "accuracy: 0.8730, loss: 0.3485 ||: 100%|██████████| 281/281 [00:01<00:00, 195.78it/s]\n",
            "accuracy: 0.8020, loss: 0.6948 ||: 100%|██████████| 12/12 [00:00<00:00, 347.77it/s]\n",
            "accuracy: 0.8737, loss: 0.3456 ||: 100%|██████████| 281/281 [00:01<00:00, 199.99it/s]\n",
            "accuracy: 0.8020, loss: 0.6763 ||: 100%|██████████| 12/12 [00:00<00:00, 347.76it/s]\n",
            "accuracy: 0.8733, loss: 0.3428 ||: 100%|██████████| 281/281 [00:01<00:00, 199.54it/s]\n",
            "accuracy: 0.8143, loss: 0.6487 ||: 100%|██████████| 12/12 [00:00<00:00, 363.58it/s]\n",
            "accuracy: 0.8746, loss: 0.3384 ||: 100%|██████████| 281/281 [00:01<00:00, 201.42it/s]\n",
            "accuracy: 0.8102, loss: 0.6656 ||: 100%|██████████| 12/12 [00:00<00:00, 347.76it/s]\n",
            "accuracy: 0.8770, loss: 0.3368 ||: 100%|██████████| 281/281 [00:01<00:00, 202.12it/s]\n",
            "accuracy: 0.8122, loss: 0.6483 ||: 100%|██████████| 12/12 [00:00<00:00, 342.80it/s]\n",
            "accuracy: 0.8766, loss: 0.3343 ||: 100%|██████████| 281/281 [00:01<00:00, 198.30it/s]\n",
            "accuracy: 0.8245, loss: 0.6479 ||: 100%|██████████| 12/12 [00:00<00:00, 328.70it/s]\n",
            "accuracy: 0.8791, loss: 0.3306 ||: 100%|██████████| 281/281 [00:01<00:00, 198.62it/s]\n",
            "accuracy: 0.8245, loss: 0.6374 ||: 100%|██████████| 12/12 [00:00<00:00, 352.89it/s]\n",
            "accuracy: 0.8805, loss: 0.3297 ||: 100%|██████████| 281/281 [00:01<00:00, 202.41it/s]\n",
            "accuracy: 0.8245, loss: 0.6505 ||: 100%|██████████| 12/12 [00:00<00:00, 324.27it/s]\n",
            "accuracy: 0.8811, loss: 0.3249 ||: 100%|██████████| 281/281 [00:01<00:00, 202.00it/s]\n",
            "accuracy: 0.8224, loss: 0.6468 ||: 100%|██████████| 12/12 [00:00<00:00, 347.76it/s]\n",
            "accuracy: 0.8826, loss: 0.3236 ||: 100%|██████████| 281/281 [00:01<00:00, 198.20it/s]\n",
            "accuracy: 0.8265, loss: 0.6382 ||: 100%|██████████| 12/12 [00:00<00:00, 342.80it/s]\n",
            "accuracy: 0.8818, loss: 0.3218 ||: 100%|██████████| 281/281 [00:01<00:00, 199.33it/s]\n",
            "accuracy: 0.8245, loss: 0.6269 ||: 100%|██████████| 12/12 [00:00<00:00, 342.79it/s]\n",
            "accuracy: 0.8842, loss: 0.3182 ||: 100%|██████████| 281/281 [00:01<00:00, 201.98it/s]\n",
            "accuracy: 0.8245, loss: 0.6090 ||: 100%|██████████| 12/12 [00:00<00:00, 358.15it/s]\n",
            "accuracy: 0.8843, loss: 0.3161 ||: 100%|██████████| 281/281 [00:01<00:00, 198.69it/s]\n",
            "accuracy: 0.8367, loss: 0.6158 ||: 100%|██████████| 12/12 [00:00<00:00, 347.76it/s]\n",
            "accuracy: 0.8855, loss: 0.3167 ||: 100%|██████████| 281/281 [00:01<00:00, 195.17it/s]\n",
            "accuracy: 0.8306, loss: 0.6320 ||: 100%|██████████| 12/12 [00:00<00:00, 324.27it/s]\n",
            "accuracy: 0.8881, loss: 0.3130 ||: 100%|██████████| 281/281 [00:01<00:00, 199.06it/s]\n",
            "accuracy: 0.8327, loss: 0.6182 ||: 100%|██████████| 12/12 [00:00<00:00, 333.27it/s]\n",
            "accuracy: 0.8871, loss: 0.3109 ||: 100%|██████████| 281/281 [00:01<00:00, 201.26it/s]\n",
            "accuracy: 0.8347, loss: 0.6045 ||: 100%|██████████| 12/12 [00:00<00:00, 352.88it/s]\n",
            "accuracy: 0.8879, loss: 0.3087 ||: 100%|██████████| 281/281 [00:01<00:00, 194.63it/s]\n",
            "accuracy: 0.8327, loss: 0.6009 ||: 100%|██████████| 12/12 [00:00<00:00, 342.80it/s]\n",
            "accuracy: 0.8907, loss: 0.3043 ||: 100%|██████████| 281/281 [00:01<00:00, 199.88it/s]\n",
            "accuracy: 0.8367, loss: 0.6027 ||: 100%|██████████| 12/12 [00:00<00:00, 358.13it/s]\n",
            "accuracy: 0.8899, loss: 0.3049 ||: 100%|██████████| 281/281 [00:01<00:00, 200.18it/s]\n",
            "accuracy: 0.8429, loss: 0.5896 ||: 100%|██████████| 12/12 [00:00<00:00, 337.97it/s]\n",
            "accuracy: 0.8909, loss: 0.3018 ||: 100%|██████████| 281/281 [00:01<00:00, 195.99it/s]\n",
            "accuracy: 0.8388, loss: 0.5892 ||: 100%|██████████| 12/12 [00:00<00:00, 363.57it/s]\n",
            "accuracy: 0.8923, loss: 0.2999 ||: 100%|██████████| 281/281 [00:01<00:00, 202.12it/s]\n",
            "accuracy: 0.8388, loss: 0.5819 ||: 100%|██████████| 12/12 [00:00<00:00, 342.77it/s]\n",
            "accuracy: 0.8915, loss: 0.2985 ||: 100%|██████████| 281/281 [00:01<00:00, 199.47it/s]\n",
            "accuracy: 0.8408, loss: 0.5966 ||: 100%|██████████| 12/12 [00:00<00:00, 342.78it/s]\n",
            "accuracy: 0.8939, loss: 0.2981 ||: 100%|██████████| 281/281 [00:01<00:00, 198.73it/s]\n",
            "accuracy: 0.8429, loss: 0.5804 ||: 100%|██████████| 12/12 [00:00<00:00, 352.89it/s]\n",
            "accuracy: 0.8935, loss: 0.2942 ||: 100%|██████████| 281/281 [00:01<00:00, 199.61it/s]\n",
            "accuracy: 0.8429, loss: 0.5829 ||: 100%|██████████| 12/12 [00:00<00:00, 352.88it/s]\n",
            "accuracy: 0.8947, loss: 0.2937 ||: 100%|██████████| 281/281 [00:01<00:00, 199.40it/s]\n",
            "accuracy: 0.8408, loss: 0.5742 ||: 100%|██████████| 12/12 [00:00<00:00, 347.77it/s]\n",
            "accuracy: 0.8932, loss: 0.2911 ||: 100%|██████████| 281/281 [00:01<00:00, 200.68it/s]\n",
            "accuracy: 0.8449, loss: 0.5719 ||: 100%|██████████| 12/12 [00:00<00:00, 328.71it/s]\n",
            "accuracy: 0.8954, loss: 0.2887 ||: 100%|██████████| 281/281 [00:01<00:00, 195.74it/s]\n",
            "accuracy: 0.8429, loss: 0.5708 ||: 100%|██████████| 12/12 [00:00<00:00, 352.89it/s]\n",
            "accuracy: 0.8943, loss: 0.2870 ||: 100%|██████████| 281/281 [00:01<00:00, 181.02it/s]\n",
            "accuracy: 0.8449, loss: 0.5628 ||: 100%|██████████| 12/12 [00:00<00:00, 363.57it/s]\n",
            "accuracy: 0.8943, loss: 0.2876 ||: 100%|██████████| 281/281 [00:01<00:00, 184.47it/s]\n",
            "accuracy: 0.8449, loss: 0.5675 ||: 100%|██████████| 12/12 [00:00<00:00, 319.95it/s]\n",
            "accuracy: 0.8938, loss: 0.2852 ||: 100%|██████████| 281/281 [00:01<00:00, 190.77it/s]\n",
            "accuracy: 0.8469, loss: 0.5579 ||: 100%|██████████| 12/12 [00:00<00:00, 347.77it/s]\n",
            "accuracy: 0.8951, loss: 0.2826 ||: 100%|██████████| 281/281 [00:01<00:00, 188.30it/s]\n",
            "accuracy: 0.8490, loss: 0.5633 ||: 100%|██████████| 12/12 [00:00<00:00, 347.76it/s]\n",
            "accuracy: 0.8962, loss: 0.2815 ||: 100%|██████████| 281/281 [00:01<00:00, 189.38it/s]\n",
            "accuracy: 0.8510, loss: 0.5524 ||: 100%|██████████| 12/12 [00:00<00:00, 347.77it/s]\n",
            "accuracy: 0.8966, loss: 0.2788 ||: 100%|██████████| 281/281 [00:01<00:00, 188.95it/s]\n",
            "accuracy: 0.8306, loss: 0.6289 ||: 100%|██████████| 12/12 [00:00<00:00, 363.57it/s]\n",
            "accuracy: 0.8965, loss: 0.2760 ||: 100%|██████████| 281/281 [00:01<00:00, 195.72it/s]\n",
            "accuracy: 0.8469, loss: 0.5433 ||: 100%|██████████| 12/12 [00:00<00:00, 337.96it/s]\n",
            "accuracy: 0.8952, loss: 0.2769 ||: 100%|██████████| 281/281 [00:01<00:00, 196.61it/s]\n",
            "accuracy: 0.8531, loss: 0.5339 ||: 100%|██████████| 12/12 [00:00<00:00, 347.76it/s]\n",
            "accuracy: 0.8986, loss: 0.2743 ||: 100%|██████████| 281/281 [00:01<00:00, 196.72it/s]\n",
            "accuracy: 0.8429, loss: 0.5462 ||: 100%|██████████| 12/12 [00:00<00:00, 319.94it/s]\n",
            "accuracy: 0.8991, loss: 0.2722 ||: 100%|██████████| 281/281 [00:01<00:00, 201.33it/s]\n",
            "accuracy: 0.8571, loss: 0.5206 ||: 100%|██████████| 12/12 [00:00<00:00, 352.89it/s]\n",
            "accuracy: 0.8997, loss: 0.2700 ||: 100%|██████████| 281/281 [00:01<00:00, 195.25it/s]\n",
            "accuracy: 0.8510, loss: 0.5242 ||: 100%|██████████| 12/12 [00:00<00:00, 333.27it/s]\n",
            "accuracy: 0.9009, loss: 0.2683 ||: 100%|██████████| 281/281 [00:01<00:00, 202.93it/s]\n",
            "accuracy: 0.8531, loss: 0.5155 ||: 100%|██████████| 12/12 [00:00<00:00, 358.16it/s]\n",
            "accuracy: 0.9000, loss: 0.2661 ||: 100%|██████████| 281/281 [00:01<00:00, 200.11it/s]\n",
            "accuracy: 0.8510, loss: 0.5199 ||: 100%|██████████| 12/12 [00:00<00:00, 342.80it/s]\n",
            "accuracy: 0.9006, loss: 0.2646 ||: 100%|██████████| 281/281 [00:01<00:00, 199.29it/s]\n",
            "accuracy: 0.8531, loss: 0.5175 ||: 100%|██████████| 12/12 [00:00<00:00, 342.80it/s]\n",
            "accuracy: 0.9009, loss: 0.2630 ||: 100%|██████████| 281/281 [00:01<00:00, 198.48it/s]\n",
            "accuracy: 0.8571, loss: 0.5129 ||: 100%|██████████| 12/12 [00:00<00:00, 352.87it/s]\n",
            "accuracy: 0.9044, loss: 0.2624 ||: 100%|██████████| 281/281 [00:01<00:00, 198.76it/s]\n",
            "accuracy: 0.8551, loss: 0.5080 ||: 100%|██████████| 12/12 [00:00<00:00, 342.80it/s]\n",
            "accuracy: 0.9030, loss: 0.2598 ||: 100%|██████████| 281/281 [00:01<00:00, 199.75it/s]\n",
            "accuracy: 0.8592, loss: 0.5092 ||: 100%|██████████| 12/12 [00:00<00:00, 347.76it/s]\n",
            "accuracy: 0.9037, loss: 0.2574 ||: 100%|██████████| 281/281 [00:01<00:00, 199.89it/s]\n",
            "accuracy: 0.8633, loss: 0.5059 ||: 100%|██████████| 12/12 [00:00<00:00, 347.76it/s]\n",
            "accuracy: 0.9042, loss: 0.2572 ||: 100%|██████████| 281/281 [00:01<00:00, 200.11it/s]\n",
            "accuracy: 0.8571, loss: 0.5128 ||: 100%|██████████| 12/12 [00:00<00:00, 289.11it/s]\n",
            "accuracy: 0.9050, loss: 0.2558 ||: 100%|██████████| 281/281 [00:01<00:00, 200.89it/s]\n",
            "accuracy: 0.8551, loss: 0.5016 ||: 100%|██████████| 12/12 [00:00<00:00, 347.74it/s]\n",
            "accuracy: 0.9067, loss: 0.2544 ||: 100%|██████████| 281/281 [00:01<00:00, 201.57it/s]\n",
            "accuracy: 0.8571, loss: 0.4970 ||: 100%|██████████| 12/12 [00:00<00:00, 352.88it/s]\n",
            "accuracy: 0.9078, loss: 0.2506 ||: 100%|██████████| 281/281 [00:01<00:00, 201.25it/s]\n",
            "accuracy: 0.8551, loss: 0.4961 ||: 100%|██████████| 12/12 [00:00<00:00, 352.88it/s]\n",
            "accuracy: 0.9085, loss: 0.2515 ||: 100%|██████████| 281/281 [00:01<00:00, 201.90it/s]\n",
            "accuracy: 0.8551, loss: 0.4870 ||: 100%|██████████| 12/12 [00:00<00:00, 352.88it/s]\n",
            "accuracy: 0.9083, loss: 0.2495 ||: 100%|██████████| 281/281 [00:01<00:00, 198.39it/s]\n",
            "accuracy: 0.8551, loss: 0.4856 ||: 100%|██████████| 12/12 [00:00<00:00, 342.80it/s]\n",
            "accuracy: 0.9102, loss: 0.2450 ||: 100%|██████████| 281/281 [00:01<00:00, 196.33it/s]\n",
            "accuracy: 0.8571, loss: 0.4774 ||: 100%|██████████| 12/12 [00:00<00:00, 352.88it/s]\n",
            "accuracy: 0.9109, loss: 0.2461 ||: 100%|██████████| 281/281 [00:01<00:00, 198.34it/s]\n",
            "accuracy: 0.8571, loss: 0.4835 ||: 100%|██████████| 12/12 [00:00<00:00, 342.80it/s]\n",
            "accuracy: 0.9119, loss: 0.2430 ||: 100%|██████████| 281/281 [00:01<00:00, 191.32it/s]\n",
            "accuracy: 0.8571, loss: 0.4923 ||: 100%|██████████| 12/12 [00:00<00:00, 324.27it/s]\n",
            "accuracy: 0.9113, loss: 0.2417 ||: 100%|██████████| 281/281 [00:01<00:00, 180.21it/s]\n",
            "accuracy: 0.8592, loss: 0.4719 ||: 100%|██████████| 12/12 [00:00<00:00, 352.88it/s]\n",
            "accuracy: 0.9120, loss: 0.2387 ||: 100%|██████████| 281/281 [00:01<00:00, 190.08it/s]\n",
            "accuracy: 0.8571, loss: 0.4831 ||: 100%|██████████| 12/12 [00:00<00:00, 342.80it/s]\n",
            "accuracy: 0.9125, loss: 0.2359 ||: 100%|██████████| 281/281 [00:01<00:00, 198.97it/s]\n",
            "accuracy: 0.8571, loss: 0.4680 ||: 100%|██████████| 12/12 [00:00<00:00, 347.76it/s]\n",
            "accuracy: 0.9127, loss: 0.2370 ||: 100%|██████████| 281/281 [00:01<00:00, 200.32it/s]\n",
            "accuracy: 0.8571, loss: 0.4611 ||: 100%|██████████| 12/12 [00:00<00:00, 337.98it/s]\n",
            "accuracy: 0.9144, loss: 0.2326 ||: 100%|██████████| 281/281 [00:01<00:00, 199.13it/s]\n",
            "accuracy: 0.8612, loss: 0.4545 ||: 100%|██████████| 12/12 [00:00<00:00, 347.77it/s]\n",
            "accuracy: 0.9147, loss: 0.2301 ||: 100%|██████████| 281/281 [00:01<00:00, 200.75it/s]\n",
            "accuracy: 0.8592, loss: 0.4588 ||: 100%|██████████| 12/12 [00:00<00:00, 337.96it/s]\n",
            "accuracy: 0.9145, loss: 0.2272 ||: 100%|██████████| 281/281 [00:01<00:00, 197.57it/s]\n",
            "accuracy: 0.8633, loss: 0.4488 ||: 100%|██████████| 12/12 [00:00<00:00, 342.80it/s]\n",
            "accuracy: 0.9144, loss: 0.2298 ||: 100%|██████████| 281/281 [00:01<00:00, 198.34it/s]\n",
            "accuracy: 0.8633, loss: 0.4510 ||: 100%|██████████| 12/12 [00:00<00:00, 342.80it/s]\n",
            "accuracy: 0.9163, loss: 0.2254 ||: 100%|██████████| 281/281 [00:01<00:00, 200.54it/s]\n",
            "accuracy: 0.8612, loss: 0.4512 ||: 100%|██████████| 12/12 [00:00<00:00, 342.80it/s]\n",
            "accuracy: 0.9161, loss: 0.2224 ||: 100%|██████████| 281/281 [00:01<00:00, 199.54it/s]\n",
            "accuracy: 0.8633, loss: 0.4459 ||: 100%|██████████| 12/12 [00:00<00:00, 333.27it/s]\n",
            "accuracy: 0.9172, loss: 0.2218 ||: 100%|██████████| 281/281 [00:01<00:00, 186.08it/s]\n",
            "accuracy: 0.8633, loss: 0.4506 ||: 100%|██████████| 12/12 [00:00<00:00, 333.28it/s]\n",
            "accuracy: 0.9190, loss: 0.2174 ||: 100%|██████████| 281/281 [00:01<00:00, 191.84it/s]\n",
            "accuracy: 0.8653, loss: 0.4392 ||: 100%|██████████| 12/12 [00:00<00:00, 358.14it/s]\n",
            "accuracy: 0.9180, loss: 0.2153 ||: 100%|██████████| 281/281 [00:01<00:00, 192.65it/s]\n",
            "accuracy: 0.8653, loss: 0.4304 ||: 100%|██████████| 12/12 [00:00<00:00, 328.71it/s]\n",
            "accuracy: 0.9191, loss: 0.2155 ||: 100%|██████████| 281/281 [00:01<00:00, 191.29it/s]\n",
            "accuracy: 0.8673, loss: 0.4225 ||: 100%|██████████| 12/12 [00:00<00:00, 347.76it/s]\n",
            "accuracy: 0.9202, loss: 0.2148 ||: 100%|██████████| 281/281 [00:01<00:00, 189.22it/s]\n",
            "accuracy: 0.8653, loss: 0.4222 ||: 100%|██████████| 12/12 [00:00<00:00, 358.16it/s]\n"
          ]
        },
        {
          "output_type": "execute_result",
          "data": {
            "text/plain": [
              "{'best_epoch': 99,\n",
              " 'peak_cpu_memory_MB': 0,\n",
              " 'peak_gpu_0_memory_MB': 5435,\n",
              " 'training_duration': '0:02:34.897990',\n",
              " 'training_start_epoch': 0,\n",
              " 'training_epochs': 99,\n",
              " 'epoch': 99,\n",
              " 'training_accuracy': 0.9202414998411185,\n",
              " 'training_loss': 0.21481472212681216,\n",
              " 'training_cpu_memory_MB': 0.0,\n",
              " 'training_gpu_0_memory_MB': 5277,\n",
              " 'validation_accuracy': 0.8653061224489796,\n",
              " 'validation_loss': 0.42215411698756117,\n",
              " 'best_validation_accuracy': 0.8653061224489796,\n",
              " 'best_validation_loss': 0.42215411698756117}"
            ]
          },
          "metadata": {},
          "execution_count": 5
        }
      ]
    },
    {
      "cell_type": "markdown",
      "metadata": {
        "id": "mwN6ctqVV0tf"
      },
      "source": [
        "## Evaluation"
      ]
    },
    {
      "cell_type": "markdown",
      "metadata": {
        "id": "qkDs_UdIeuFz"
      },
      "source": [
        "The simple code below creators a `predictor` object that applies the model to an input example and then loops over the examples in the validation set, printing out the input token, gold-standard output, and model output. You can see from these methods how to access data and model outputs for evaluation."
      ]
    },
    {
      "cell_type": "code",
      "metadata": {
        "id": "S0bE4fmLik08"
      },
      "source": [
        "predictor = SentenceTaggerPredictor(model, dataset_reader=reader)\n",
        "\n",
        "def tag_sentence(s):\n",
        "  tag_ids = np.argmax(predictor.predict_instance(s)['tag_logits'], axis=-1)\n",
        "  print(tag_ids)\n",
        "  fields = zip(s['tokens'], s['tags'], [model.vocab.get_token_from_index(i, 'labels') for i in tag_ids])\n",
        "  return list(fields)\n",
        "\n",
        "baseline_output = [tag_sentence(i) for i in validation_dataset]"
      ],
      "execution_count": 35,
      "outputs": [
        {
          "output_type": "stream",
          "name": "stdout",
          "text": [
            "[0 0 0 0 0 0 0 6 2 0 0 0 0 0 4 0 0 0 0 0 0 0 0 5 5 5 0]\n[0 3 0 6 2 2 0 0 0 5 5 5 0 0 0 0 0 0 0 0 0 3 2 2 0]\n[0 0 0 4 0 0 0 0 5 5 5 0]\n[0 0 0 0 0 0 0 0 3 2 0 0]\n[0 0 0 0 0 0 0 0 3 2 2 0 0 0 0 0 0 0 0 0 0 0 0 0 0 0]\n[ 0  0  0  0  0  4 13  2  0  0  0  0]\n[0 5 5 5 0 0 0 0 0 0 0 0 6 5 0]\n[0 0 0 0 0 0 0 0 0]\n[0 0 0 0 0 0 0 0 0 0 0 0 0 0 0 0 0]\n[0 0 0 0 0 0 7 0 0 0 0 0 0 0 0 0 0 6 0 0 0 0 0 0 0 0 0 4 0]\n[0 0 6 2 0 0 0 1 0 1 0 0 0 0 0 0 2 2 0 0 0]\n[0 8 2 0 3 0 0 0 0 0 0 7 0 0 0 1 0 0 0 0 0 0 0 0 0 0 4 2 2 0 0 3 2 0 0 2 2\n 2 0 0 0 0 0 0 6 3 0 0 3 2 0 0 0 0 6 2 0 0 0 0 0 6 2 3 0 0 0 0 0]\n[0 0 0 0 0 0 0 0 0 0 0 0 0 0 0 0]\n[0 0 0 0 0 7 0 0 0 0 0 0 0 0 0 0 0 0 0 6 2 0]\n[0 0 0 0 0 0 0 0 6 2 0 0 0 0 0 0 0 0 0 0 0 0 6 2 3 2 0]\n[0 0 0 0 0 0 0 0 0 0 0 0 6 2 0 0 0 0 0 0 0 0 0 0 0]\n[0 3 3 0 0 0 0 0 0 0 0 0 0 0 0 0 0 0 0 0 0 0 0 0 0]\n[0 0 0 0 0 0 0 0 0 0 0 0 0 0 0 0 0 0 2 2 2 0 0 0 0 0 0 0 0 0]\n[0 0 0 0 0 0 0]\n[0 0 0 0 0 0 0 0 0]\n[0 0 0 0 0 0 0 0 0 0 0 0 0 0 0 0 0 0 0]\n[0 0 4 3 0 3 0 0 0 0]\n[0 0 0 3 0 0 7 0 0 1 0 0 0 0 0 0 0 0 0 0 6 5 0 0 0 0]\n"
          ]
        }
      ]
    },
    {
      "cell_type": "markdown",
      "metadata": {
        "id": "BpYMx7RVfCyT"
      },
      "source": [
        "Now, you can implement two evaluation functions: `violations` and `span_stats`."
      ]
    },
    {
      "cell_type": "code",
      "metadata": {
        "id": "P042A2Ofg3wa"
      },
      "source": [
        "# TODO: count the number of NER label violations,\n",
        "# such as O followed by I-TYPE or B-TYPE followed by\n",
        "# I-OTHER_TYPE\n",
        "# Take tagger output as input\n",
        "def violations(tagged):\n",
        "    count = 0\n",
        "    for setence in tagged:\n",
        "        prev_tag = None\n",
        "        for tagging in setence:\n",
        "            current_tag = tagging[2]\n",
        "            if not prev_tag:\n",
        "                prev_tag = tagging[2]\n",
        "            else:\n",
        "                if current_tag == \"O\":\n",
        "                    prev_tag = current_tag\n",
        "                elif current_tag[0] == \"I\" and current_tag[1:] == prev_tag[1:]:\n",
        "                    prev_tag = current_tag\n",
        "                elif current_tag[0] == \"B\":\n",
        "                    prev_tag = current_tag\n",
        "                else:\n",
        "                    count += 1\n",
        "    return count\n",
        "\n",
        "# TODO: return the span-level precision, recall, and F1\n",
        "# Only count valid spans that start with a B tag,\n",
        "# followed by zero or more I tags of the same type.\n",
        "# Take tagger output as input\n",
        "def span_stats(tagged):\n",
        "    true_positive = 0\n",
        "    precision_denom = 0\n",
        "    recall_denom = 0\n",
        "    for sentence in tagged:\n",
        "        golden = [tag[1] for tag in sentence]\n",
        "        golden_spans = []\n",
        "        span = False\n",
        "        spanstring = \"\"\n",
        "        for tag in golden:\n",
        "            if tag != \"O\" and not span:\n",
        "                span = True;\n",
        "            if tag == \"O\" and span:\n",
        "                span = False;\n",
        "                spanstring += tag\n",
        "                golden_spans.append(spanstring)\n",
        "                spanstring = \"\"\n",
        "            if span:\n",
        "                spanstring += tag\n",
        "\n",
        "        predicted = [tag[2] for tag in sentence]\n",
        "        predicted_spans = []\n",
        "        span = False\n",
        "        spanstring = \"\"\n",
        "        for tag in predicted:\n",
        "            if tag[0] == \"B\" and not span:\n",
        "                span = True;\n",
        "            if tag == \"O\" and span:\n",
        "                span = False;\n",
        "                spanstring += tag\n",
        "                predicted_spans.append(spanstring)\n",
        "                spanstring = \"\"\n",
        "            if span:\n",
        "                spanstring += tag\n",
        "\n",
        "        recall_denom += len(golden_spans)\n",
        "        precision_denom += len(predicted_spans)\n",
        "        true_positive += len([tag for tag in predicted_spans if tag in golden_spans])\n",
        "    \n",
        "\n",
        "    precision = true_positive/precision_denom\n",
        "    recall = true_positive/recall_denom\n",
        "    f1 = 2*(precision*recall/(precision+recall))\n",
        "\n",
        "    return {'precision': precision,\n",
        "          'recall': recall,\n",
        "          'f1': f1}\n",
        "\n",
        "## You can check how many violations are made by the model output in predictor.\n",
        "print(violations(baseline_output))"
      ],
      "execution_count": 243,
      "outputs": [
        {
          "output_type": "stream",
          "name": "stdout",
          "text": [
            "60\n"
          ]
        },
        {
          "output_type": "execute_result",
          "data": {
            "text/plain": [
              "{'precision': 0.2857142857142857,\n",
              " 'recall': 0.19047619047619047,\n",
              " 'f1': 0.22857142857142854}"
            ]
          },
          "metadata": {},
          "execution_count": 243
        }
      ]
    },
    {
      "cell_type": "markdown",
      "metadata": {
        "id": "fX7-quD2hnzB"
      },
      "source": [
        "## Decoding"
      ]
    },
    {
      "cell_type": "markdown",
      "metadata": {
        "id": "WCgW9d9ohsGv"
      },
      "source": [
        "Now you can finally implement the simple Viterbi decoder. The `predictor` object, when applied to an input sentence, first calculates the scores for each possible output tag for each token. See the line `predictor.predict_instance(i)['tag_logits']` in the code above.\n",
        "\n",
        "Then, you will construct a transition matrix. You can use the code below to get a list of the tags the model knows about. For a set of K tags, construct a K-by-K matrix with a log(1)=0 when a transition between a given tag pair is valid and a log(0)=-infinity otherwise.\n",
        "\n",
        "Finally, implement a Viterbi decoder that takes the predictor object and a dataset object and outputs tagged data, just like the `tag_sentence` function above. It should use the Viterbi algorithm with the (max, plus) semiring. You'll be working with sums of log probabilities instead of products of probabilties.\n",
        "\n",
        "Run your `violations` function on the output of this decoder to make sure that there are no invalid tag transitions. Also, compare the span-level metrics on `baseline_output` and your new output using your `span_stats` function."
      ]
    },
    {
      "cell_type": "code",
      "metadata": {
        "id": "nlP8vZhiS68K",
        "colab": {
          "base_uri": "https://localhost:8080/",
          "height": 54
        },
        "outputId": "7c3fe605-6618-41b3-d62c-e3a7cdcfba52",
        "tags": []
      },
      "source": [
        "# This code show how to map from output vector components to labels\n",
        "print(vocab.get_index_to_token_vocabulary('labels'))\n",
        "transition_matrix = np.zeros([len(vocab.get_index_to_token_vocabulary('labels')), len(vocab.get_index_to_token_vocabulary('labels'))])\n",
        "for y_ in range(len(vocab.get_index_to_token_vocabulary('labels'))):\n",
        "    for x_ in range(len(vocab.get_index_to_token_vocabulary('labels'))):\n",
        "        if vocab.get_index_to_token_vocabulary('labels')[x_] == \"O\":\n",
        "            transition_matrix[x_][y_] = math.log(1)\n",
        "        elif vocab.get_index_to_token_vocabulary('labels')[x_][0] == \"B\":\n",
        "            transition_matrix[x_][y_] = math.log(1)\n",
        "        elif vocab.get_index_to_token_vocabulary('labels')[x_][0] == \"I\" and vocab.get_index_to_token_vocabulary('labels')[x_][1:] == vocab.get_index_to_token_vocabulary('labels')[y_][1:]:\n",
        "            transition_matrix[x_][y_] = math.log(1)\n",
        "        else:\n",
        "            transition_matrix[x_][y_] = -math.inf\n",
        "               "
      ],
      "execution_count": 204,
      "outputs": [
        {
          "output_type": "stream",
          "name": "stdout",
          "text": [
            "{0: 'O', 1: 'B-GPE', 2: 'I-ORG', 3: 'I-DATE', 4: 'B-CARDINAL', 5: 'I-EVENT', 6: 'B-PERSON', 7: 'B-NORP', 8: 'B-DATE', 9: 'B-ORG', 10: 'B-LOC', 11: 'I-LOC', 12: 'I-FAC', 13: 'I-PERSON', 14: 'I-GPE', 15: 'I-CARDINAL', 16: 'B-EVENT', 17: 'I-TIME', 18: 'I-WORK_OF_ART', 19: 'B-ORDINAL', 20: 'B-FAC', 21: 'B-TIME', 22: 'I-LAW', 23: 'I-QUANTITY', 24: 'I-NORP', 25: 'I-MONEY', 26: 'B-MONEY', 27: 'B-WORK_OF_ART', 28: 'B-QUANTITY', 29: 'B-LAW', 30: 'B-PRODUCT', 31: 'I-PRODUCT', 32: 'B-PERCENT', 33: 'I-PERCENT'}\n[[  0.   0.   0. ...   0.   0.   0.]\n [  0.   0.   0. ...   0.   0.   0.]\n [-inf -inf   0. ... -inf -inf -inf]\n ...\n [-inf -inf -inf ...   0. -inf -inf]\n [  0.   0.   0. ...   0.   0.   0.]\n [-inf -inf -inf ... -inf   0.   0.]]\n"
          ]
        }
      ]
    },
    {
      "cell_type": "code",
      "execution_count": 233,
      "metadata": {},
      "outputs": [],
      "source": [
        "def viterbi_helper (predictor, dataset):\n",
        "    # code modified from https://stackoverflow.com/questions/9729968/python-implementation-of-viterbi-algorithm/9730083\n",
        "    conditional_probabilities = np.array([np.array(xi) for xi in predictor.predict_instance(dataset)['tag_logits']]).T\n",
        "    transition_probabilities = transition_matrix.T\n",
        "    num_samples = conditional_probabilities.shape[1]\n",
        "    num_states = transition_probabilities.shape[0] # number of states\n",
        "\n",
        "    c = np.zeros(num_samples) #scale factors (necessary to prevent underflow)\n",
        "    viterbi = np.zeros((num_states,num_samples)) # initialise viterbi table\n",
        "    best_path_table = np.zeros((num_states,num_samples)) # initialise the best path table\n",
        "    best_path = np.zeros(num_samples).astype(np.int32) # this will be your output\n",
        "\n",
        "    # B- appoint initial values for viterbi and best path (bp) tables - Eq (32a-32b)\n",
        "    viterbi[:,0] = conditional_probabilities[:,0]\n",
        "    c[0] = 1.0/np.sum(viterbi[:,0])\n",
        "    viterbi[:,0] = c[0] + viterbi[:,0] # apply the scaling factor\n",
        "\n",
        "    # C- Do the iterations for viterbi and psi for time>0 until T\n",
        "    for t in range(1, num_samples): # loop through time\n",
        "        for s in range (0,num_states): # loop through the states @(t-1)\n",
        "            trans_p = viterbi[:, t-1] + transition_probabilities[:,s] # transition probs of each state transitioning\n",
        "            best_path_table[s,t], viterbi[s,t] = max(enumerate(trans_p), key=operator.itemgetter(1))\n",
        "            viterbi[s,t] = viterbi[s,t] + conditional_probabilities[s][t]\n",
        "\n",
        "        c[t] = 1.0/np.sum(viterbi[:,t]) # scaling factor\n",
        "        viterbi[:,t] = c[t] * viterbi[:,t]\n",
        "\n",
        "    ## D - Back-tracking\n",
        "    best_path[num_samples-1] =  viterbi[:,num_samples-1].argmax() # last state\n",
        "    for t in range(num_samples-1,0,-1): # states of (last-1)th to 0th time step\n",
        "        best_path[t-1] = best_path_table[best_path[t],t]\n",
        "    return best_path"
      ]
    },
    {
      "cell_type": "code",
      "execution_count": 240,
      "metadata": {},
      "outputs": [],
      "source": [
        " def viterbi(predictor, dataset):\n",
        "    fields = zip(dataset['tokens'], dataset['tags'], [model.vocab.get_token_from_index(i, 'labels') for i in viterbi_helper(predictor, dataset)])\n",
        "    return list(fields)\n"
      ]
    },
    {
      "cell_type": "code",
      "execution_count": 241,
      "metadata": {},
      "outputs": [],
      "source": [
        "viterbi_output = [viterbi(predictor, i) for i in validation_dataset]"
      ]
    },
    {
      "cell_type": "code",
      "execution_count": 244,
      "metadata": {},
      "outputs": [
        {
          "output_type": "execute_result",
          "data": {
            "text/plain": [
              "0"
            ]
          },
          "metadata": {},
          "execution_count": 244
        }
      ],
      "source": [
        "violations(viterbi_output)"
      ]
    },
    {
      "cell_type": "code",
      "execution_count": 245,
      "metadata": {},
      "outputs": [
        {
          "output_type": "execute_result",
          "data": {
            "text/plain": [
              "{'precision': 0.4883720930232558, 'recall': 0.5, 'f1': 0.4941176470588235}"
            ]
          },
          "metadata": {},
          "execution_count": 245
        }
      ],
      "source": [
        "span_stats(viterbi_output)"
      ]
    },
    {
      "cell_type": "code",
      "execution_count": 246,
      "metadata": {},
      "outputs": [
        {
          "output_type": "execute_result",
          "data": {
            "text/plain": [
              "{'precision': 0.2857142857142857,\n",
              " 'recall': 0.19047619047619047,\n",
              " 'f1': 0.22857142857142854}"
            ]
          },
          "metadata": {},
          "execution_count": 246
        }
      ],
      "source": [
        "span_stats(baseline_output)"
      ]
    }
  ]
}