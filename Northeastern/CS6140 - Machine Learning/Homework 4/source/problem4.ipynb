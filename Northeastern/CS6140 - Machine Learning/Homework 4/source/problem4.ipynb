{
 "metadata": {
  "language_info": {
   "codemirror_mode": {
    "name": "ipython",
    "version": 3
   },
   "file_extension": ".py",
   "mimetype": "text/x-python",
   "name": "python",
   "nbconvert_exporter": "python",
   "pygments_lexer": "ipython3",
   "version": "3.7.9"
  },
  "orig_nbformat": 2,
  "kernelspec": {
   "name": "python379jvsc74a57bd0a707b6ce8c685eb936424fcc3009d4b4b7a52543c4db09380a3fc49186ceb509",
   "display_name": "Python 3.7.9 64-bit ('base': conda)"
  }
 },
 "nbformat": 4,
 "nbformat_minor": 2,
 "cells": [
  {
   "cell_type": "code",
   "execution_count": 44,
   "metadata": {},
   "outputs": [],
   "source": [
    "import pandas as pd\n",
    "import numpy as np\n",
    "import random\n",
    "import sys\n",
    "from sklearn.model_selection import train_test_split\n",
    "from sklearn.metrics import mean_squared_error\n",
    "from sklearn.decomposition import NMF\n",
    "random.seed(4)"
   ]
  },
  {
   "cell_type": "code",
   "execution_count": 64,
   "metadata": {},
   "outputs": [],
   "source": [
    "ratings = pd.read_csv('u.data',\n",
    "                      sep = '\\t',names= ['UserID', 'ItemID', 'rating', 'Timestamp' ])\n",
    "\n",
    "test = ratings.sample(frac=.25)"
   ]
  },
  {
   "source": [
    "ratings.loc[test.index, 'rating'] = None"
   ],
   "cell_type": "code",
   "metadata": {},
   "execution_count": 65,
   "outputs": []
  },
  {
   "cell_type": "code",
   "execution_count": 66,
   "metadata": {},
   "outputs": [
    {
     "output_type": "execute_result",
     "data": {
      "text/plain": [
       "       UserID  ItemID  rating  Timestamp\n",
       "42500     640    1016       3  886474538\n",
       "46255     497     597       3  879310649\n",
       "97132     401     188       1  891033267\n",
       "49080     660    1074       1  891201399\n",
       "35696     280      13       5  891700257"
      ],
      "text/html": "<div>\n<style scoped>\n    .dataframe tbody tr th:only-of-type {\n        vertical-align: middle;\n    }\n\n    .dataframe tbody tr th {\n        vertical-align: top;\n    }\n\n    .dataframe thead th {\n        text-align: right;\n    }\n</style>\n<table border=\"1\" class=\"dataframe\">\n  <thead>\n    <tr style=\"text-align: right;\">\n      <th></th>\n      <th>UserID</th>\n      <th>ItemID</th>\n      <th>rating</th>\n      <th>Timestamp</th>\n    </tr>\n  </thead>\n  <tbody>\n    <tr>\n      <th>42500</th>\n      <td>640</td>\n      <td>1016</td>\n      <td>3</td>\n      <td>886474538</td>\n    </tr>\n    <tr>\n      <th>46255</th>\n      <td>497</td>\n      <td>597</td>\n      <td>3</td>\n      <td>879310649</td>\n    </tr>\n    <tr>\n      <th>97132</th>\n      <td>401</td>\n      <td>188</td>\n      <td>1</td>\n      <td>891033267</td>\n    </tr>\n    <tr>\n      <th>49080</th>\n      <td>660</td>\n      <td>1074</td>\n      <td>1</td>\n      <td>891201399</td>\n    </tr>\n    <tr>\n      <th>35696</th>\n      <td>280</td>\n      <td>13</td>\n      <td>5</td>\n      <td>891700257</td>\n    </tr>\n  </tbody>\n</table>\n</div>"
     },
     "metadata": {},
     "execution_count": 66
    }
   ],
   "source": [
    "test.head()"
   ]
  },
  {
   "cell_type": "code",
   "execution_count": 67,
   "metadata": {},
   "outputs": [
    {
     "output_type": "execute_result",
     "data": {
      "text/plain": [
       "UserID             387.0\n",
       "ItemID             208.0\n",
       "rating               3.0\n",
       "Timestamp    886480484.0\n",
       "Name: 11523, dtype: float64"
      ]
     },
     "metadata": {},
     "execution_count": 67
    }
   ],
   "source": [
    "ratings.loc[11523]"
   ]
  },
  {
   "cell_type": "code",
   "execution_count": 68,
   "metadata": {},
   "outputs": [],
   "source": [
    "ratings_matrix = ratings.pivot_table(index=['UserID'],columns=['ItemID'],values='rating', dropna=False)\n",
    "\n",
    "avg_matrix = ratings.pivot_table(index=['UserID'],columns=['ItemID'],values='rating', dropna=False)"
   ]
  },
  {
   "cell_type": "code",
   "execution_count": 69,
   "metadata": {},
   "outputs": [],
   "source": [
    "avg_matrix.fillna(avg_matrix.mean(), inplace=True)\n"
   ]
  },
  {
   "cell_type": "code",
   "execution_count": 70,
   "metadata": {},
   "outputs": [],
   "source": [
    "avg_matrix.fillna(0, inplace=True)"
   ]
  },
  {
   "cell_type": "code",
   "execution_count": 71,
   "metadata": {},
   "outputs": [],
   "source": [
    "preds = test.apply(lambda row: avg_matrix[row.ItemID][row.UserID], axis=1)\n",
    "actual = test.apply(lambda row: row.rating, axis=1)"
   ]
  },
  {
   "cell_type": "code",
   "execution_count": 72,
   "metadata": {},
   "outputs": [
    {
     "output_type": "execute_result",
     "data": {
      "text/plain": [
       "1.0668650115420382"
      ]
     },
     "metadata": {},
     "execution_count": 72
    }
   ],
   "source": [
    "mean_squared_error(actual, preds)"
   ]
  },
  {
   "cell_type": "code",
   "execution_count": 76,
   "metadata": {},
   "outputs": [],
   "source": [
    "ks = [10, 20, 40, 80, 100]\n",
    "scores = []\n",
    "ratings_matrix.fillna(0, inplace=True)"
   ]
  },
  {
   "cell_type": "code",
   "execution_count": 79,
   "metadata": {},
   "outputs": [
    {
     "output_type": "stream",
     "name": "stderr",
     "text": [
      "C:\\tools\\Anaconda3\\lib\\site-packages\\sklearn\\decomposition\\_nmf.py:1077: ConvergenceWarning: Maximum number of iterations 1500 reached. Increase it to improve convergence.\n  \" improve convergence.\" % max_iter, ConvergenceWarning)\n"
     ]
    }
   ],
   "source": [
    "for k in ks:\n",
    "    model = NMF(n_components=k, random_state=None, max_iter=1500) \n",
    "    W = model.fit_transform(ratings_matrix)\n",
    "    H = model.components_\n",
    "    O = np.dot(W, H)\n",
    "    k_preds = test.apply(lambda row: O[row.UserID-1][row.ItemID-1], axis=1)\n",
    "    scores.append({k: mean_squared_error(actual, k_preds)})"
   ]
  },
  {
   "cell_type": "code",
   "execution_count": 80,
   "metadata": {},
   "outputs": [
    {
     "output_type": "execute_result",
     "data": {
      "text/plain": [
       "[{10: 7.266385662125529},\n",
       " {20: 7.217366096695849},\n",
       " {40: 7.78920202450557},\n",
       " {80: 8.810334696789788},\n",
       " {100: 9.179534284937002},\n",
       " {10: 7.2663858809718676},\n",
       " {20: 7.239380447977012},\n",
       " {40: 7.7352185250454975},\n",
       " {80: 8.854745256025048},\n",
       " {100: 9.223906728247526}]"
      ]
     },
     "metadata": {},
     "execution_count": 80
    }
   ],
   "source": [
    "scores"
   ]
  },
  {
   "cell_type": "code",
   "execution_count": null,
   "metadata": {},
   "outputs": [],
   "source": []
  }
 ]
}