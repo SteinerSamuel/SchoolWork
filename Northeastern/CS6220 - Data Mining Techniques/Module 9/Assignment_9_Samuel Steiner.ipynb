{
 "cells": [
  {
   "cell_type": "markdown",
   "metadata": {},
   "source": [
    "# CS 6220 Data Mining — Assignment 9 — Model Evaluation — Samuel Steiner"
   ]
  },
  {
   "cell_type": "code",
   "execution_count": 46,
   "metadata": {},
   "outputs": [],
   "source": [
    "import matplotlib.pyplot as plt\n",
    "import numpy as np\n",
    "from sklearn.datasets import load_breast_cancer\n",
    "from sklearn.tree import DecisionTreeClassifier\n",
    "from sklearn.model_selection import train_test_split\n",
    "from sklearn import metrics \n",
    "# accuracy_score, recall_score, precision_score, classification_report, confusion_matrix, roc_curve, PrecisionRecallDisplay"
   ]
  },
  {
   "cell_type": "code",
   "execution_count": 47,
   "metadata": {},
   "outputs": [],
   "source": [
    "# 1. Split the dataset into training set and test set (80, 20).\n",
    "breast_cancer_data = load_breast_cancer()\n",
    "X = breast_cancer_data.data\n",
    "y = breast_cancer_data.target\n",
    "\n",
    "X_train, X_test, y_train, y_test = train_test_split(X, y, test_size=0.2)\n"
   ]
  },
  {
   "cell_type": "code",
   "execution_count": 48,
   "metadata": {},
   "outputs": [
    {
     "data": {
      "text/plain": [
       "DecisionTreeClassifier()"
      ]
     },
     "execution_count": 48,
     "metadata": {},
     "output_type": "execute_result"
    }
   ],
   "source": [
    "# 2. Using scikit-learn’s DecisionTreeClassifier, train a supervised learning model that can be used to generate predictions for your data.\n",
    "base_dt_clf = DecisionTreeClassifier()\n",
    "base_dt_clf.fit(X_train, y_train)"
   ]
  },
  {
   "cell_type": "code",
   "execution_count": 49,
   "metadata": {},
   "outputs": [
    {
     "data": {
      "text/plain": [
       "DecisionTreeClassifier(max_depth=1)"
      ]
     },
     "execution_count": 49,
     "metadata": {},
     "output_type": "execute_result"
    }
   ],
   "source": [
    "# 3. Similarly as in previous step, train another Decision Tree Classifier - but in this case \n",
    "# set the maximum depth of the tree to 1 (max_depth = 1). Use the same training and\n",
    "# test set as you used for the Decision Tree in the previous step.\n",
    "depth_1_dt_clf = DecisionTreeClassifier(max_depth=1)\n",
    "depth_1_dt_clf.fit(X_train, y_train)"
   ]
  },
  {
   "cell_type": "code",
   "execution_count": 50,
   "metadata": {},
   "outputs": [],
   "source": [
    "# 4. Report on the six evaluation metrics listed in objective for both the models, and compare their results.\n",
    "#   1. The accuracy of your model on the test data\n",
    "#   2. The precision and recall values\n",
    "#   3. A classification report (scikit-learn has a function that can create this for you)\n",
    "#   4. The confusion matrix for this experiment\n",
    "#   5. An ROC curve\n",
    "#   6. A Precision/Recall curve\n",
    "\n",
    "def clf_report(clf, x_test, y_true, y_pred):\n",
    "    print(f\"Accuracy: {metrics.accuracy_score(y_true, y_pred):.2f} \\n\")\n",
    "    print(f\"Precision: {metrics.precision_score(y_true, y_pred):.2f} \\n\")\n",
    "    print(f\"Recall: {metrics.recall_score(y_true, y_pred):.2f} \\n\")\n",
    "    print(f\"Classification Report: \\n {metrics.classification_report(y_true, y_pred)} \\n\")\n",
    "    print(\"Confusion Matrix:\")\n",
    "    cm = metrics.confusion_matrix(y_true, y_pred, labels=clf.classes_)\n",
    "    confusion_displ = metrics.ConfusionMatrixDisplay(confusion_matrix=cm)\n",
    "    confusion_displ.plot()\n",
    "    plt.show()\n",
    "    print(\"ROC curve:\")\n",
    "    fpr, tpr, _ = metrics.roc_curve(y_true, y_pred)\n",
    "    roc_auc = metrics.auc(fpr, tpr)\n",
    "    display = metrics.RocCurveDisplay(fpr=fpr, tpr=tpr, roc_auc=roc_auc)\n",
    "    display.plot()\n",
    "    plt.show()\n",
    "    print(\"Precision/Recall curve:\")\n",
    "    precision, recall, _ = metrics.precision_recall_curve(y_true, y_pred)\n",
    "    disp = metrics.PrecisionRecallDisplay(precision=precision, recall=recall)\n",
    "    disp.plot()\n",
    "    plt.show()\n"
   ]
  },
  {
   "cell_type": "code",
   "execution_count": 51,
   "metadata": {},
   "outputs": [
    {
     "name": "stdout",
     "output_type": "stream",
     "text": [
      "Metrics for base decision tree classifier, no max depth given.\n",
      "Accuracy: 0.95 \n",
      "\n",
      "Precision: 0.97 \n",
      "\n",
      "Recall: 0.94 \n",
      "\n",
      "Classification Report: \n",
      "               precision    recall  f1-score   support\n",
      "\n",
      "           0       0.91      0.95      0.93        43\n",
      "           1       0.97      0.94      0.96        71\n",
      "\n",
      "    accuracy                           0.95       114\n",
      "   macro avg       0.94      0.95      0.94       114\n",
      "weighted avg       0.95      0.95      0.95       114\n",
      " \n",
      "\n",
      "Confusion Matrix:\n"
     ]
    },
    {
     "data": {
      "image/png": "[encoded data removed]",
      "text/plain": [
       "<Figure size 432x288 with 2 Axes>"
      ]
     },
     "metadata": {
      "needs_background": "light"
     },
     "output_type": "display_data"
    },
    {
     "name": "stdout",
     "output_type": "stream",
     "text": [
      "ROC curve:\n"
     ]
    },
    {
     "data": {
      "image/png": "[encoded data removed]",
      "text/plain": [
       "<Figure size 432x288 with 1 Axes>"
      ]
     },
     "metadata": {
      "needs_background": "light"
     },
     "output_type": "display_data"
    },
    {
     "name": "stdout",
     "output_type": "stream",
     "text": [
      "Precision/Recall curve:\n"
     ]
    },
    {
     "data": {
      "image/png": "[encoded data removed]",
      "text/plain": [
       "<Figure size 432x288 with 1 Axes>"
      ]
     },
     "metadata": {
      "needs_background": "light"
     },
     "output_type": "display_data"
    }
   ],
   "source": [
    "print(\"Metrics for base decision tree classifier, no max depth given.\")\n",
    "clf_report(base_dt_clf, X_test, y_test, base_dt_clf.predict(X_test))"
   ]
  },
  {
   "cell_type": "code",
   "execution_count": 52,
   "metadata": {},
   "outputs": [
    {
     "name": "stdout",
     "output_type": "stream",
     "text": [
      "Metrics for base decision tree classifier, max depth 1.\n",
      "Accuracy: 0.89 \n",
      "\n",
      "Precision: 0.89 \n",
      "\n",
      "Recall: 0.93 \n",
      "\n",
      "Classification Report: \n",
      "               precision    recall  f1-score   support\n",
      "\n",
      "           0       0.88      0.81      0.84        43\n",
      "           1       0.89      0.93      0.91        71\n",
      "\n",
      "    accuracy                           0.89       114\n",
      "   macro avg       0.88      0.87      0.88       114\n",
      "weighted avg       0.89      0.89      0.89       114\n",
      " \n",
      "\n",
      "Confusion Matrix:\n"
     ]
    },
    {
     "data": {
      "image/png": "[encoded data removed]",
      "text/plain": [
       "<Figure size 432x288 with 2 Axes>"
      ]
     },
     "metadata": {
      "needs_background": "light"
     },
     "output_type": "display_data"
    },
    {
     "name": "stdout",
     "output_type": "stream",
     "text": [
      "ROC curve:\n"
     ]
    },
    {
     "data": {
      "image/png": "[encoded data removed]",
      "text/plain": [
       "<Figure size 432x288 with 1 Axes>"
      ]
     },
     "metadata": {
      "needs_background": "light"
     },
     "output_type": "display_data"
    },
    {
     "name": "stdout",
     "output_type": "stream",
     "text": [
      "Precision/Recall curve:\n"
     ]
    },
    {
     "data": {
      "image/png": "[encoded data removed]",
      "text/plain": [
       "<Figure size 432x288 with 1 Axes>"
      ]
     },
     "metadata": {
      "needs_background": "light"
     },
     "output_type": "display_data"
    }
   ],
   "source": [
    "print(\"Metrics for base decision tree classifier, max depth 1.\")\n",
    "clf_report(depth_1_dt_clf, X_test, y_test, depth_1_dt_clf.predict(X_test))"
   ]
  },
  {
   "cell_type": "markdown",
   "metadata": {},
   "source": [
    "## Comparing the classifiers\n",
    "\n",
    "| | Defualt | Max Depth 1 | Analysis |\n",
    "| --- | --- | --- | --- |\n",
    "| Accuracy | 0.95  | 0.89 | The default settings had a higher accuracy but both were close, since the training time was relatively similar it is probably worth to just use the default settings |\n",
    "| Precision / Recall | 0.97 / 0.94 | 0.89 / 0.93 | Again the default settings had a higher precision and recall but the recall was very close. |\n",
    "| Classification Report | see above | see above | Similar to above analysis | \n",
    "| Confusion Matrix | see above | see above | Similar to above analysis |\n",
    "| ROC Curve | see above | see above | Similar to above analysis |\n",
    "| Precission/Recall Curve | see above | see above | Similar to above analysis |\n",
    "\n",
    "\n",
    "Overall the default settings preformed better but the metrics showed that even with a depth of one you can get pretty good results. To me this showcases that exploration of the parameters fo these models and classifiers should be explored to see what the best settings are for mixing the best preformance vs cost. This also showcases that sometimes that including all information is not always the best method of creating classifiers. These types of analysis can create genuine insight into the data and generate useful knowledge for future experiments."
   ]
  }
 ],
 "metadata": {
  "interpreter": {
   "hash": "3418417383af331fcbc8316060ae8874514fff1df7fef283aa38a0cc727c6ead"
  },
  "kernelspec": {
   "display_name": "Python 3.9.7 ('base')",
   "language": "python",
   "name": "python3"
  },
  "language_info": {
   "codemirror_mode": {
    "name": "ipython",
    "version": 3
   },
   "file_extension": ".py",
   "mimetype": "text/x-python",
   "name": "python",
   "nbconvert_exporter": "python",
   "pygments_lexer": "ipython3",
   "version": "3.9.7"
  },
  "orig_nbformat": 4
 },
 "nbformat": 4,
 "nbformat_minor": 2
}
