{
 "cells": [
  {
   "cell_type": "code",
   "execution_count": 2,
   "metadata": {},
   "outputs": [],
   "source": [
    "value1 = 'Test Value'\n",
    "value2 = 123\n",
    "value3 = value1 + str(value2)"
   ]
  },
  {
   "cell_type": "code",
   "execution_count": 3,
   "metadata": {},
   "outputs": [
    {
     "name": "stdout",
     "output_type": "stream",
     "text": [
      "Test Value123\n"
     ]
    }
   ],
   "source": [
    "print(value3)"
   ]
  },
  {
   "cell_type": "code",
   "execution_count": 14,
   "metadata": {},
   "outputs": [],
   "source": [
    "import numpy as np"
   ]
  },
  {
   "cell_type": "code",
   "execution_count": 57,
   "metadata": {},
   "outputs": [],
   "source": [
    "def roll_d20(n: int, d:int = 0) -> str: \n",
    "    \"\"\"Rolls d20s \n",
    "\n",
    "    Args:\n",
    "        n (int): number of dice to roll in total.\n",
    "        d (int, optional): How many dice to drop. Defaults to 0.\n",
    "\n",
    "    Returns:\n",
    "        str: the dice tolled and the sum in a string.\n",
    "    \"\"\"\n",
    "    rolls = [int(np.random.rand() * 20) + 1 for _ in range(n)]\n",
    "    rolls.sort()\n",
    "    rolls.reverse()\n",
    "    rolls = rolls [d:n]\n",
    "    return(f'{str(rolls)} sum: {sum(rolls)}')"
   ]
  },
  {
   "cell_type": "code",
   "execution_count": 58,
   "metadata": {},
   "outputs": [
    {
     "data": {
      "text/plain": [
       "'[7, 7, 5, 4, 4] sum: 27'"
      ]
     },
     "execution_count": 58,
     "metadata": {},
     "output_type": "execute_result"
    }
   ],
   "source": [
    "roll_d20(10, d=5)"
   ]
  }
 ],
 "metadata": {
  "interpreter": {
   "hash": "3418417383af331fcbc8316060ae8874514fff1df7fef283aa38a0cc727c6ead"
  },
  "kernelspec": {
   "display_name": "Python 3.9.7 64-bit (conda)",
   "language": "python",
   "name": "python3"
  },
  "language_info": {
   "codemirror_mode": {
    "name": "ipython",
    "version": 3
   },
   "file_extension": ".py",
   "mimetype": "text/x-python",
   "name": "python",
   "nbconvert_exporter": "python",
   "pygments_lexer": "ipython3",
   "version": "3.9.7"
  },
  "orig_nbformat": 4
 },
 "nbformat": 4,
 "nbformat_minor": 2
}
