{
 "cells": [
  {
   "cell_type": "markdown",
   "metadata": {},
   "source": [
    "# Notebook 1: Introduction to R"
   ]
  },
  {
   "cell_type": "markdown",
   "metadata": {},
   "source": [
    "\n",
    "\n",
    "*R* is a programming language and environment for statistical analysis and graphics. *R* includes (see r-project.org/about.html): \n",
    "   - an effective data handling and storage facility,\n",
    "   - a suite of operators for calculations on arrays, in particular matrices,\n",
    "   - a large, coherent, integrated collection of intermediate tools for data analysis,\n",
    "   - graphical facilities for data analysis and display either on-screen or on hardcopy, and\n",
    "   - a well-developed, simple and effective programming language which includes conditionals, loops, user-defined recursive\n",
    "        functions and input and output facilities."
   ]
  },
  {
   "cell_type": "markdown",
   "metadata": {},
   "source": [
    "## Quantitative Data\n",
    "**In Notebook 1A, we will cover:**\n",
    "- Arithmetic operations\n",
    "- Built-in *R* functions\n",
    "- Entering a quantitative data vector \n",
    "- Functions of the data vector\n",
    "- Editing data values\n",
    "- Creating a stem-and-leaf plot\n",
    "- Creating a box-and-whisker plot"
   ]
  },
  {
   "cell_type": "code",
   "execution_count": 3,
   "metadata": {
    "collapsed": true
   },
   "outputs": [],
   "source": [
    "#0. Enter your name after the # below. \n",
    "# Samuel Steiner"
   ]
  },
  {
   "cell_type": "markdown",
   "metadata": {},
   "source": [
    "### Operators\n",
    "\n",
    "You can combine numeric data values using operators such as addition, subtraction, division, and so forth. Below are standard arithmetic operators.\n",
    "\n",
    "\n",
    "\n",
    "| Operator | Operation | Example |\n",
    "|:---------------:|:-----------------|:--------------|\n",
    "|   \\+     | Addition    | 3 + 5   |\n",
    "|   \\-     | Subtraction | 7 - 2   |\n",
    "| \\* | Multiplication | 100\\*3.8|\n",
    "| / | Division | 200/4 |\n",
    "|^|Exponents|2^3|\n",
    "\n"
   ]
  },
  {
   "cell_type": "code",
   "execution_count": 4,
   "metadata": {},
   "outputs": [
    {
     "data": {
      "text/html": [
       "8"
      ],
      "text/latex": [
       "8"
      ],
      "text/markdown": [
       "8"
      ],
      "text/plain": [
       "[1] 8"
      ]
     },
     "metadata": {},
     "output_type": "display_data"
    },
    {
     "data": {
      "text/html": [
       "5"
      ],
      "text/latex": [
       "5"
      ],
      "text/markdown": [
       "5"
      ],
      "text/plain": [
       "[1] 5"
      ]
     },
     "metadata": {},
     "output_type": "display_data"
    },
    {
     "data": {
      "text/html": [
       "380"
      ],
      "text/latex": [
       "380"
      ],
      "text/markdown": [
       "380"
      ],
      "text/plain": [
       "[1] 380"
      ]
     },
     "metadata": {},
     "output_type": "display_data"
    },
    {
     "data": {
      "text/html": [
       "50"
      ],
      "text/latex": [
       "50"
      ],
      "text/markdown": [
       "50"
      ],
      "text/plain": [
       "[1] 50"
      ]
     },
     "metadata": {},
     "output_type": "display_data"
    },
    {
     "data": {
      "text/html": [
       "8"
      ],
      "text/latex": [
       "8"
      ],
      "text/markdown": [
       "8"
      ],
      "text/plain": [
       "[1] 8"
      ]
     },
     "metadata": {},
     "output_type": "display_data"
    }
   ],
   "source": [
    "# 1. Try the following calculations below. \n",
    "#Notice that  you can choose to use or not use spaces between numbers and operators.\n",
    "#To run the commands in this cell, click on the \"run cell\" icon (>|) in the toolbar above.\n",
    "#Notice that comments that follow the pound sign are not included in the run commands. \n",
    "3 + 5\n",
    "7-2\n",
    "100*3.8\n",
    "200/4\n",
    "2^3"
   ]
  },
  {
   "cell_type": "markdown",
   "metadata": {},
   "source": [
    "The next table contains some commonly used *R* mathematical functions. Notice that functions take arguments. \n",
    "\n",
    "|Function | Operation | Example |\n",
    "|:---------:|:----------|:---------|\n",
    "|cos() | Cosine | $cos(\\pi)$, enter as cos(pi)|\n",
    "|sqrt()|Square root| $\\sqrt16$, enter as sqrt(16)|\n",
    "|log()|Natural logarithm|log(10)|\n",
    "|exp(x)| Exponential function |$e$, enter as exp(1)|\n",
    "|sum()|Sum(total)|sum(3, 2, 5)|\n"
   ]
  },
  {
   "cell_type": "code",
   "execution_count": 16,
   "metadata": {},
   "outputs": [
    {
     "data": {
      "text/html": [
       "2.30258509299405"
      ],
      "text/latex": [
       "2.30258509299405"
      ],
      "text/markdown": [
       "2.30258509299405"
      ],
      "text/plain": [
       "[1] 2.302585"
      ]
     },
     "metadata": {},
     "output_type": "display_data"
    }
   ],
   "source": [
    "#2. Calculate the answers to the examples in the cell above. \n",
    "#We start you off with the first one. \n",
    "#Enter the remaining 4 examples and then click the \"run cell\" icon.\n",
    "#Did you get the results you expected? \n",
    "log(10)\n"
   ]
  },
  {
   "cell_type": "markdown",
   "metadata": {},
   "source": [
    "### Entering and Analyzing Quantitative Data\n",
    "\n",
    "When entering quantitative data on a single variable, enter the data as a vector and give the variable a name that you can remember. For example, suppose you want to store the data 5, 7, 3, 10, 6, 1 under the variable name TestData: \n",
    "- To form the vector: c(list data values separated by commas). \n",
    "- To assign the vector a name: <- (less-than symbol followed by dash) stores the data in the variable named to the left.  \n",
    "\n",
    "To print the vector, simply type its name. **Warning:** *R* is case sensitive so you **must pay attention to capital and lowercase letters**. \n"
   ]
  },
  {
   "cell_type": "code",
   "execution_count": 6,
   "metadata": {},
   "outputs": [
    {
     "data": {
      "text/html": [
       "<ol class=list-inline>\n",
       "\t<li>2</li>\n",
       "\t<li>3</li>\n",
       "\t<li>4</li>\n",
       "\t<li>5</li>\n",
       "\t<li>6</li>\n",
       "\t<li>7</li>\n",
       "</ol>\n"
      ],
      "text/latex": [
       "\\begin{enumerate*}\n",
       "\\item 2\n",
       "\\item 3\n",
       "\\item 4\n",
       "\\item 5\n",
       "\\item 6\n",
       "\\item 7\n",
       "\\end{enumerate*}\n"
      ],
      "text/markdown": [
       "1. 2\n",
       "2. 3\n",
       "3. 4\n",
       "4. 5\n",
       "5. 6\n",
       "6. 7\n",
       "\n",
       "\n"
      ],
      "text/plain": [
       "[1] 2 3 4 5 6 7"
      ]
     },
     "metadata": {},
     "output_type": "display_data"
    }
   ],
   "source": [
    "#3. Entering and printing TestData.\n",
    "TestData <- c(2,3,4,5,6,7)\n",
    "TestData"
   ]
  },
  {
   "cell_type": "markdown",
   "metadata": {},
   "source": [
    "A function of data values is called a statistic. Here are some examples of various functions of data that can be computed.\n",
    "\n",
    "|Function|Operation|Example|\n",
    "|:--------|:---------|:--------|\n",
    "|mean()|Mean(average)|mean(TestData)|\n",
    "|var()|Variance|var(c(3, 2, 5))|\n",
    "|sd()|Standard deviation|sd(TestData)|\n",
    "|median()|Median (middle number of ordered data set)|median(c(3, 2, 5))|\n",
    "|summary()|Five-number summary (min, Q1, med, Q3, max)|summary(TestData)|\n",
    "\n",
    "Next, you will calculate some statistics for TestData and for the data set {3, 2, 5}.\n",
    "**Warning:** If you want to stop along the way, click File and \"Save and Checkpoint.\" However, when you return, you will have to rerun the cell above to create TestData before you can calculate the values in the examples as requested below. \n",
    "**Remember:** When you return to work on a notebook, you will need to run cells that created or stored data in variables before you can apply commands to those variables."
   ]
  },
  {
   "cell_type": "code",
   "execution_count": 7,
   "metadata": {},
   "outputs": [
    {
     "data": {
      "text/html": [
       "4.5"
      ],
      "text/latex": [
       "4.5"
      ],
      "text/markdown": [
       "4.5"
      ],
      "text/plain": [
       "[1] 4.5"
      ]
     },
     "metadata": {},
     "output_type": "display_data"
    }
   ],
   "source": [
    "#4. Calculate the answers to the examples in the cell above.\n",
    "#We start you off with the first one.\n",
    "#Enter the remaining 4 examples and then click the \"run cell\" icon.\n",
    "mean(TestData)\n"
   ]
  },
  {
   "cell_type": "markdown",
   "metadata": {},
   "source": [
    "#### Analyzing Class Data: Estimates of Outside Temperature\n",
    "\n",
    "The last question on the class survey asked students to estimate the outside temperature. Student responses to this survey question fall semester 2017 are given below:\n",
    "\n",
    "75 68 80 68 70 70 69 72 75 65 70 63 70 26 68 71 71 70 70 67\n"
   ]
  },
  {
   "cell_type": "code",
   "execution_count": 8,
   "metadata": {},
   "outputs": [
    {
     "data": {
      "text/html": [
       "<ol class=list-inline>\n",
       "\t<li>75</li>\n",
       "\t<li>68</li>\n",
       "\t<li>80</li>\n",
       "\t<li>68</li>\n",
       "\t<li>70</li>\n",
       "\t<li>70</li>\n",
       "\t<li>69</li>\n",
       "\t<li>72</li>\n",
       "\t<li>75</li>\n",
       "\t<li>65</li>\n",
       "\t<li>70</li>\n",
       "\t<li>63</li>\n",
       "\t<li>70</li>\n",
       "\t<li>26</li>\n",
       "\t<li>68</li>\n",
       "\t<li>71</li>\n",
       "\t<li>71</li>\n",
       "\t<li>70</li>\n",
       "\t<li>70</li>\n",
       "\t<li>67</li>\n",
       "</ol>\n"
      ],
      "text/latex": [
       "\\begin{enumerate*}\n",
       "\\item 75\n",
       "\\item 68\n",
       "\\item 80\n",
       "\\item 68\n",
       "\\item 70\n",
       "\\item 70\n",
       "\\item 69\n",
       "\\item 72\n",
       "\\item 75\n",
       "\\item 65\n",
       "\\item 70\n",
       "\\item 63\n",
       "\\item 70\n",
       "\\item 26\n",
       "\\item 68\n",
       "\\item 71\n",
       "\\item 71\n",
       "\\item 70\n",
       "\\item 70\n",
       "\\item 67\n",
       "\\end{enumerate*}\n"
      ],
      "text/markdown": [
       "1. 75\n",
       "2. 68\n",
       "3. 80\n",
       "4. 68\n",
       "5. 70\n",
       "6. 70\n",
       "7. 69\n",
       "8. 72\n",
       "9. 75\n",
       "10. 65\n",
       "11. 70\n",
       "12. 63\n",
       "13. 70\n",
       "14. 26\n",
       "15. 68\n",
       "16. 71\n",
       "17. 71\n",
       "18. 70\n",
       "19. 70\n",
       "20. 67\n",
       "\n",
       "\n"
      ],
      "text/plain": [
       " [1] 75 68 80 68 70 70 69 72 75 65 70 63 70 26 68 71 71 70 70 67"
      ]
     },
     "metadata": {},
     "output_type": "display_data"
    }
   ],
   "source": [
    "#5. Create a vector of the estimated temperature data above. \n",
    "#Store the data vector in variable named Temp.Print the vector and check for errors. \n",
    "Temp <- c(75,68,80,68,70,70,69,72,75,65,70,63,70,26,68,71,71,70,70,67)\n",
    "Temp"
   ]
  },
  {
   "cell_type": "code",
   "execution_count": 9,
   "metadata": {},
   "outputs": [
    {
     "name": "stdout",
     "output_type": "stream",
     "text": [
      "\n",
      "  The decimal point is 1 digit(s) to the right of the |\n",
      "\n",
      "  2 | 6\n",
      "  4 | \n",
      "  6 | 357888900000011255\n",
      "  8 | 0\n",
      "\n"
     ]
    }
   ],
   "source": [
    "#6. Next, make a stem-and-leaf plot of the temperature data. \n",
    "stem(Temp)"
   ]
  },
  {
   "cell_type": "markdown",
   "metadata": {},
   "source": [
    "Notice that the stems in the stemplot are in increments of 20. So, data values in the 60s and 70s appear on the same stem. To change the increment from 20 to 10, you will need to stretch the stem by a factor of 2. That can be done using \"scale = 2\" as follows:\n",
    "\n",
    "stem(Temp, scale = 2)\n",
    "\n",
    "(If instead, you use \"scale = 0.5\",  you would double the increment and cut the stem length in half.)"
   ]
  },
  {
   "cell_type": "code",
   "execution_count": 10,
   "metadata": {},
   "outputs": [
    {
     "name": "stdout",
     "output_type": "stream",
     "text": [
      "\n",
      "  The decimal point is 1 digit(s) to the right of the |\n",
      "\n",
      "  2 | 6\n",
      "  3 | \n",
      "  4 | \n",
      "  5 | \n",
      "  6 | 3578889\n",
      "  7 | 00000011255\n",
      "  8 | 0\n",
      "\n"
     ]
    }
   ],
   "source": [
    "#7. Make a stem-and-leaf plot of the temperature data in which the stem increment is 10.\n",
    "#Do there appear to be any outliers? \n",
    "stem(Temp, scale = 2)"
   ]
  },
  {
   "cell_type": "markdown",
   "metadata": {},
   "source": [
    "Based on your stemplot in 7, you should see an outlier. One student reported the estimated temperature in degrees Celsius instead of in degrees Fahrenheit. The following formula can be used to change Celsius temperatures into Fahrenheit temperatures: $F = \\frac{9}{5}C+32$. You will need to change this value in the Temp data vector. \n"
   ]
  },
  {
   "cell_type": "code",
   "execution_count": 11,
   "metadata": {},
   "outputs": [
    {
     "data": {
      "text/html": [
       "<ol class=list-inline>\n",
       "\t<li>2</li>\n",
       "\t<li>3</li>\n",
       "\t<li>5</li>\n",
       "\t<li>5</li>\n",
       "\t<li>6</li>\n",
       "\t<li>7</li>\n",
       "</ol>\n"
      ],
      "text/latex": [
       "\\begin{enumerate*}\n",
       "\\item 2\n",
       "\\item 3\n",
       "\\item 5\n",
       "\\item 5\n",
       "\\item 6\n",
       "\\item 7\n",
       "\\end{enumerate*}\n"
      ],
      "text/markdown": [
       "1. 2\n",
       "2. 3\n",
       "3. 5\n",
       "4. 5\n",
       "5. 6\n",
       "6. 7\n",
       "\n",
       "\n"
      ],
      "text/plain": [
       "[1] 2 3 5 5 6 7"
      ]
     },
     "metadata": {},
     "output_type": "display_data"
    }
   ],
   "source": [
    "#8. You can edit single entires in a data vector. \n",
    "#For example, suppose you wanted to change the the 3rd value in TestData from 2 to 5. \n",
    "#Run this cell in order to do that. \n",
    "TestData[3] <- 5.\n",
    "#Now check to make sure the 3rd data value has been changed:\n",
    "TestData"
   ]
  },
  {
   "cell_type": "code",
   "execution_count": 60,
   "metadata": {},
   "outputs": [
    {
     "data": {
      "text/html": [
       "344.912"
      ],
      "text/latex": [
       "344.912"
      ],
      "text/markdown": [
       "344.912"
      ],
      "text/plain": [
       "[1] 344.912"
      ]
     },
     "metadata": {},
     "output_type": "display_data"
    },
    {
     "name": "stdout",
     "output_type": "stream",
     "text": [
      "\n",
      "  The decimal point is 2 digit(s) to the right of the |\n",
      "\n",
      "  0 | 6777777777777777888\n",
      "  1 | \n",
      "  2 | \n",
      "  3 | 4\n",
      "\n"
     ]
    }
   ],
   "source": [
    "#9. a. Return to the Temp data. In what position is the outlier? What is its value?\n",
    "#b. Use the arithmetic operators from question 1 to convert this outlier into degrees Fahrenheit. \n",
    "#Do this in R and not using your calculator!!\n",
    "#c. Edit the Temp data replacing the outlier with its Fahrenheit value. \n",
    "#Print the edited Temp data.\n",
    "#d. Make a stem-and-leaf plot of the edited data. \n",
    "#e. Describe the shape of the data (symmetric, skewed left or right). Write your answer below to the right of #.\n",
    "#\n",
    "Temp[14] <- 9*Temp[14]/5 + 32\n",
    "Temp[14]\n",
    "stem(Temp)"
   ]
  },
  {
   "cell_type": "markdown",
   "metadata": {},
   "source": [
    "The mean and standard deivation are measures of location (central tendency) and spread (variability). These are appropriate measures when the shape of the data is unimodal and roughly symmetric with no extreme outliers. \n",
    "\n",
    "The 5-number summary consists of the minimum, first quartile (Q1), median, third quartile (Q3), and maximum. You can calculate two measures of spread, the range and interquartile range using numbers from the 5-number summary:\n",
    "* range = maximum - minimum\n",
    "* interquartile range = Q3 - Q1\n"
   ]
  },
  {
   "cell_type": "code",
   "execution_count": 58,
   "metadata": {},
   "outputs": [
    {
     "data": {
      "text/html": [
       "70.54"
      ],
      "text/latex": [
       "70.54"
      ],
      "text/markdown": [
       "70.54"
      ],
      "text/plain": [
       "[1] 70.54"
      ]
     },
     "metadata": {},
     "output_type": "display_data"
    },
    {
     "data": {
      "text/html": [
       "4.12698437118436"
      ],
      "text/latex": [
       "4.12698437118436"
      ],
      "text/markdown": [
       "4.12698437118436"
      ],
      "text/plain": [
       "[1] 4.126984"
      ]
     },
     "metadata": {},
     "output_type": "display_data"
    },
    {
     "data": {
      "text/plain": [
       "   Min. 1st Qu.  Median    Mean 3rd Qu.    Max. \n",
       "  63.00   68.00   70.00   70.54   71.25   80.00 "
      ]
     },
     "metadata": {},
     "output_type": "display_data"
    },
    {
     "data": {
      "text/html": [
       "17"
      ],
      "text/latex": [
       "17"
      ],
      "text/markdown": [
       "17"
      ],
      "text/plain": [
       "[1] 17"
      ]
     },
     "metadata": {},
     "output_type": "display_data"
    },
    {
     "data": {
      "text/html": [
       "3.25"
      ],
      "text/latex": [
       "3.25"
      ],
      "text/markdown": [
       "3.25"
      ],
      "text/plain": [
       "[1] 3.25"
      ]
     },
     "metadata": {},
     "output_type": "display_data"
    }
   ],
   "source": [
    "#10. a. Calculate the mean and standard deviation of the Temp data.\n",
    "#b. Calculate a 5-number summary.\n",
    "#c. Calculate the range and interquartile range. \n",
    "mean(Temp)\n",
    "sd(Temp)\n",
    "summary(Temp)\n",
    "range(Temp)[2]-range(Temp)[1]\n",
    "IQR(Temp)"
   ]
  },
  {
   "cell_type": "code",
   "execution_count": 30,
   "metadata": {},
   "outputs": [
    {
     "data": {
      "image/png": "[encoded data removed]",
      "text/plain": [
       "plot without title"
      ]
     },
     "metadata": {},
     "output_type": "display_data"
    },
    {
     "data": {
      "image/png": "[encoded data removed]",
      "text/plain": [
       "plot without title"
      ]
     },
     "metadata": {},
     "output_type": "display_data"
    }
   ],
   "source": [
    "#11. Make a box-and-whisker plot of the Temp data.\n",
    "#Are there any outliers?\n",
    "boxplot(Temp)\n",
    "#If you prefer the layout of the boxplot to be horizontal, add \"horizontal = TRUE.\"\n",
    "boxplot(Temp, horizontal = TRUE,col = \"skyblue\")\n",
    "#Which plot do you like better? Record your answer to the right of # below.\n",
    "# I like the horizontal box graph better, it allows me to see the data in a more intuitive way"
   ]
  },
  {
   "cell_type": "markdown",
   "metadata": {},
   "source": [
    "# Categorical Data"
   ]
  },
  {
   "cell_type": "markdown",
   "metadata": {},
   "source": [
    "Next, we consider the data collected from two questions on the class survey:\n",
    "1. Identify your gender: Male or Female\n",
    "2. Tell how much you agree with the statement - Watching movies is fun: \n",
    "\n",
    "| Disagree a lot | Disagree a little | Agree a little | Agree a lot |\n",
    "|:------------:|:--------------:|:-----------------:|:--------------:|\n",
    "\n",
    "We will first enter the data coded as numbers and then label the numbers into the question response categories. We will analyze each variable individually (univariate analysis). For practice, we will start with class data collected fall 2017.\n"
   ]
  },
  {
   "cell_type": "code",
   "execution_count": 31,
   "metadata": {},
   "outputs": [
    {
     "data": {
      "text/html": [
       "<ol class=list-inline>\n",
       "\t<li>Male</li>\n",
       "\t<li>Male</li>\n",
       "\t<li>Female</li>\n",
       "\t<li>Female</li>\n",
       "\t<li>Male</li>\n",
       "\t<li>Female</li>\n",
       "\t<li>Female</li>\n",
       "\t<li>Female</li>\n",
       "\t<li>Male</li>\n",
       "\t<li>Male</li>\n",
       "\t<li>Male</li>\n",
       "\t<li>Female</li>\n",
       "\t<li>Male</li>\n",
       "\t<li>Male</li>\n",
       "\t<li>Female</li>\n",
       "\t<li>Female</li>\n",
       "\t<li>Female</li>\n",
       "\t<li>Female</li>\n",
       "\t<li>Female</li>\n",
       "\t<li>Male</li>\n",
       "</ol>\n"
      ],
      "text/latex": [
       "\\begin{enumerate*}\n",
       "\\item Male\n",
       "\\item Male\n",
       "\\item Female\n",
       "\\item Female\n",
       "\\item Male\n",
       "\\item Female\n",
       "\\item Female\n",
       "\\item Female\n",
       "\\item Male\n",
       "\\item Male\n",
       "\\item Male\n",
       "\\item Female\n",
       "\\item Male\n",
       "\\item Male\n",
       "\\item Female\n",
       "\\item Female\n",
       "\\item Female\n",
       "\\item Female\n",
       "\\item Female\n",
       "\\item Male\n",
       "\\end{enumerate*}\n"
      ],
      "text/markdown": [
       "1. Male\n",
       "2. Male\n",
       "3. Female\n",
       "4. Female\n",
       "5. Male\n",
       "6. Female\n",
       "7. Female\n",
       "8. Female\n",
       "9. Male\n",
       "10. Male\n",
       "11. Male\n",
       "12. Female\n",
       "13. Male\n",
       "14. Male\n",
       "15. Female\n",
       "16. Female\n",
       "17. Female\n",
       "18. Female\n",
       "19. Female\n",
       "20. Male\n",
       "\n",
       "\n"
      ],
      "text/plain": [
       " [1] Male   Male   Female Female Male   Female Female Female Male   Male  \n",
       "[11] Male   Female Male   Male   Female Female Female Female Female Male  \n",
       "Levels: Male Female"
      ]
     },
     "metadata": {},
     "output_type": "display_data"
    }
   ],
   "source": [
    "#12. Enter the gender data as a vector of 0s and 1s (for Male and Female, respectively).\n",
    "#Name this data vector RawGender.\n",
    "RawGender <- c(0,0,1,1,0,1,1,1,0,0,0,1,0,0,1,1,1,1,1,0)\n",
    "#Recode the values in RawGender with the corresponding categories.This will be a factor vector.\n",
    "#A factor denotes a categorical variable, typically with a few finite levels (in this case, 0 = Male and 1 = Female).\n",
    "Gender <- factor(RawGender, levels = c(0,1), labels = c(\"Male\", \"Female\"))\n",
    "#Finally, we'll print the data to make sure there are no errors.\n",
    "Gender"
   ]
  },
  {
   "cell_type": "markdown",
   "metadata": {},
   "source": [
    "Before you can make a graphic display of categorical data, you first need to create a table containing the counts for each outcome and give that table a name. To make a graphic display such as a pie chart or bar chart, you input the table name into the commands pie() or barplot().\n"
   ]
  },
  {
   "cell_type": "code",
   "execution_count": 70,
   "metadata": {},
   "outputs": [
    {
     "data": {
      "text/plain": [
       "Gender\n",
       "  Male Female \n",
       "     9     11 "
      ]
     },
     "metadata": {},
     "output_type": "display_data"
    },
    {
     "data": {
      "image/png": "[encoded data removed]",
      "text/plain": [
       "plot without title"
      ]
     },
     "metadata": {},
     "output_type": "display_data"
    },
    {
     "data": {
      "image/png": "[encoded data removed]",
      "text/plain": [
       "plot without title"
      ]
     },
     "metadata": {},
     "output_type": "display_data"
    }
   ],
   "source": [
    "#13. Question 1: Gender\n",
    "#First we create a table containing the counts for Males and Females. \n",
    "#We will name this table Table_Gender and then print the table.\n",
    "Table_Gender <- table(Gender)\n",
    "Table_Gender\n",
    "#Next, we will input Table_Gender into pie() and barplot(). \n",
    "#For barplot, we add a vector of colors to the command to change the default color. \n",
    "pie(Table_Gender, col=c(\"steelblue\", \"tomato3\"))\n",
    "barplot(Table_Gender, col = \"skyblue\")\n",
    "#What happens if you replace col = c(\"blue\", \"red\") with col = \"skyblue\"? Try making this change.\n",
    "# both the bars turn skyblue from red and blue "
   ]
  },
  {
   "cell_type": "code",
   "execution_count": 67,
   "metadata": {},
   "outputs": [
    {
     "data": {
      "text/html": [
       "20"
      ],
      "text/latex": [
       "20"
      ],
      "text/markdown": [
       "20"
      ],
      "text/plain": [
       "[1] 20"
      ]
     },
     "metadata": {},
     "output_type": "display_data"
    },
    {
     "data": {
      "text/plain": [
       "Gender\n",
       "  Male Female \n",
       "    45     55 "
      ]
     },
     "metadata": {},
     "output_type": "display_data"
    },
    {
     "data": {
      "image/png": "[encoded data removed]",
      "text/plain": [
       "plot without title"
      ]
     },
     "metadata": {},
     "output_type": "display_data"
    }
   ],
   "source": [
    "#We can find the total number of Males and Females in Table_Gender as follows:\n",
    "margin.table(Table_Gender)\n",
    "#Next, we convert the Gender table into percentages instead of counts.\n",
    "#We accomplish this by dividing the counts by the marginal total and then multiplying by 100.\n",
    "#We'll name this table Table_Gender_Percent.\n",
    "Table_Gender_Percent <- Table_Gender/margin.table(Table_Gender)*100\n",
    "Table_Gender_Percent\n",
    "#Now make a barplot from this table and check how the scaling is affected. \n",
    "#Add to the barplot command ylab = \"Percent\", xlab = \"Gender\". Feel free to add a command to change the default color.\n",
    "barplot(Table_Gender_Percent, ylab = \"Percent\", xlab = \"Gender\",col=c(\"steelblue\", \"tomato3\"))"
   ]
  },
  {
   "cell_type": "code",
   "execution_count": 35,
   "metadata": {},
   "outputs": [
    {
     "data": {
      "text/html": [
       "<ol class=list-inline>\n",
       "\t<li>Agree a little</li>\n",
       "\t<li>Disagree a little</li>\n",
       "\t<li>Agree a lot</li>\n",
       "\t<li>Agree a lot</li>\n",
       "\t<li>Agree a little</li>\n",
       "\t<li>Agree a little</li>\n",
       "</ol>\n"
      ],
      "text/latex": [
       "\\begin{enumerate*}\n",
       "\\item Agree a little\n",
       "\\item Disagree a little\n",
       "\\item Agree a lot\n",
       "\\item Agree a lot\n",
       "\\item Agree a little\n",
       "\\item Agree a little\n",
       "\\end{enumerate*}\n"
      ],
      "text/markdown": [
       "1. Agree a little\n",
       "2. Disagree a little\n",
       "3. Agree a lot\n",
       "4. Agree a lot\n",
       "5. Agree a little\n",
       "6. Agree a little\n",
       "\n",
       "\n"
      ],
      "text/plain": [
       "[1] Agree a little    Disagree a little Agree a lot       Agree a lot      \n",
       "[5] Agree a little    Agree a little   \n",
       "4 Levels: Disagree a lot < Disagree a little < ... < Agree a lot"
      ]
     },
     "metadata": {},
     "output_type": "display_data"
    },
    {
     "data": {
      "text/html": [
       "<ol class=list-inline>\n",
       "\t<li>Agree a lot</li>\n",
       "\t<li>Agree a little</li>\n",
       "\t<li>Agree a little</li>\n",
       "\t<li>Agree a lot</li>\n",
       "\t<li>Agree a lot</li>\n",
       "\t<li>Disagree a little</li>\n",
       "</ol>\n"
      ],
      "text/latex": [
       "\\begin{enumerate*}\n",
       "\\item Agree a lot\n",
       "\\item Agree a little\n",
       "\\item Agree a little\n",
       "\\item Agree a lot\n",
       "\\item Agree a lot\n",
       "\\item Disagree a little\n",
       "\\end{enumerate*}\n"
      ],
      "text/markdown": [
       "1. Agree a lot\n",
       "2. Agree a little\n",
       "3. Agree a little\n",
       "4. Agree a lot\n",
       "5. Agree a lot\n",
       "6. Disagree a little\n",
       "\n",
       "\n"
      ],
      "text/plain": [
       "[1] Agree a lot       Agree a little    Agree a little    Agree a lot      \n",
       "[5] Agree a lot       Disagree a little\n",
       "4 Levels: Disagree a lot < Disagree a little < ... < Agree a lot"
      ]
     },
     "metadata": {},
     "output_type": "display_data"
    }
   ],
   "source": [
    "#14. Question 2: Watching movies is fun.\n",
    "#Enter the movies data as a vector of 1s, 2s, 3s, and 4s, representing the four possible responses.\n",
    "#Name this vector RawMovies.\n",
    "RawMovies <- c(3,2,4,4,3,3,4,4,3,3,3,4,2,3,4,3,3,4,4,2)\n",
    "#Recode the values in RawMovies with the corresponding responses.\n",
    "#This time we have an ordinal variable. So, we will replace \"factor\" in the previous example with \"ordered\".\n",
    "Movies <- ordered(RawMovies, levels = c(1,2,3,4), \n",
    "                  labels = c(\"Disagree a lot\", \"Disagree a little\", \"Agree a little\", \"Agree a lot\"))\n",
    "#Next, we print out the first six values of Movies to make sure that we haven't made any errors. \n",
    "#We use the head command to do this.\n",
    "head(Movies)\n",
    "#Print the last six values of Movies. Use the command tail().\n",
    "tail(Movies)"
   ]
  },
  {
   "cell_type": "code",
   "execution_count": 66,
   "metadata": {},
   "outputs": [
    {
     "data": {
      "text/plain": [
       "Movies\n",
       "   Disagree a lot Disagree a little    Agree a little       Agree a lot \n",
       "                0                 3                 9                 8 "
      ]
     },
     "metadata": {},
     "output_type": "display_data"
    },
    {
     "data": {
      "image/png": "[encoded data removed]",
      "text/plain": [
       "plot without title"
      ]
     },
     "metadata": {},
     "output_type": "display_data"
    },
    {
     "data": {
      "image/png": "[encoded data removed]",
      "text/plain": [
       "plot without title"
      ]
     },
     "metadata": {},
     "output_type": "display_data"
    }
   ],
   "source": [
    "#15. a. Make and print a table of the Movies data. Name your table Table_Movies.\n",
    "#b. Make a bar chart of the Movies data.\n",
    "#c. Make a bar chart of the Movies data with a vertical axis of percents.\n",
    "Table_Movies <- table(Movies)# Makes a table from the movie data\n",
    "Table_Movies\n",
    "\n",
    "barplot(Table_Movies, col = c(\"red\",\"darkorange\",\"goldenrod\", \"forestgreen\")) # Makes a barplot of the data\n",
    "\n",
    "Table_Movies_Percent <- Table_Movies/margin.table(Table_Movies)*100\n",
    "# Table_Movies_Percent\n",
    "\n",
    "barplot(Table_Movies_Percent, ylab = \"Percent\", col = c(\"red\",\"darksalmon\",\"peru\", \"darkseagreen\"))"
   ]
  },
  {
   "cell_type": "markdown",
   "metadata": {},
   "source": [
    "### Bivariate Categorical Data\n",
    "\n",
    "Next, we consider both variables, Gender and Movies, simulaneously. In particular, we'd like to know how the responses to \"Watching movies is fun\" differ for males and females. We can examine the relationship between these two variables with a two-way table. We'll use Gender for the row variable and Movies for the column variable.  \n"
   ]
  },
  {
   "cell_type": "code",
   "execution_count": 43,
   "metadata": {},
   "outputs": [
    {
     "data": {
      "text/plain": [
       "        Movies\n",
       "Gender   Disagree a lot Disagree a little Agree a little Agree a lot\n",
       "  Male                0                 3              6           0\n",
       "  Female              0                 0              3           8"
      ]
     },
     "metadata": {},
     "output_type": "display_data"
    }
   ],
   "source": [
    "#16. First, we make a two-way table of the counts. \n",
    "Table_Gender_Movies <- table(Gender, Movies)\n",
    "Table_Gender_Movies"
   ]
  },
  {
   "cell_type": "code",
   "execution_count": 50,
   "metadata": {},
   "outputs": [
    {
     "data": {
      "text/plain": [
       "Gender\n",
       "  Male Female \n",
       "     9     11 "
      ]
     },
     "metadata": {},
     "output_type": "display_data"
    }
   ],
   "source": [
    "#17. Next, we get the marginal totals for Males and Females.\n",
    "Table_Gender_Margin <- margin.table(Table_Gender_Movies,1)\n",
    "Table_Gender_Margin\n",
    "#Compare the results to the table you created in 13."
   ]
  },
  {
   "cell_type": "code",
   "execution_count": 51,
   "metadata": {},
   "outputs": [
    {
     "data": {
      "text/plain": [
       "        Movies\n",
       "Gender   Disagree a lot Disagree a little Agree a little Agree a lot\n",
       "  Male          0.00000          33.33333       66.66667     0.00000\n",
       "  Female        0.00000           0.00000       27.27273    72.72727"
      ]
     },
     "metadata": {},
     "output_type": "display_data"
    }
   ],
   "source": [
    "#18. Finally, we calculate the row percentages.\n",
    "#To do this we dividing row 1 by the number of males and row 2 by the number of females and then multiply by 100.\n",
    "Row_Percents <- prop.table(Table_Gender_Movies,1)*100\n",
    "Row_Percents\n",
    "#Based on this table, write a sentence about the differences in how males and females responded to \"Watching movies is fun.\"\n",
    "#"
   ]
  },
  {
   "cell_type": "code",
   "execution_count": 68,
   "metadata": {},
   "outputs": [
    {
     "data": {
      "image/png": "[encoded data removed]",
      "text/plain": [
       "plot without title"
      ]
     },
     "metadata": {},
     "output_type": "display_data"
    }
   ],
   "source": [
    "#19. Make a barplot of the two-way table of row percentages from question 18.\n",
    "barplot(Row_Percents, ylab = \"Percent\", xlab = \"Gender\", \n",
    "        legend = rownames(Row_Percents), col = c(\"steelblue\", \"tomato3\"), beside = TRUE)\n",
    "#Look above to your table and your graphic display. Do these appear to be telling you the same story? Explain below.\n",
    "#Yes they have the same data"
   ]
  },
  {
   "cell_type": "code",
   "execution_count": null,
   "metadata": {
    "collapsed": true
   },
   "outputs": [],
   "source": [
    "#Rework questions 12 - 19 using the class data from this class. The data are posted in the data folder in Blackboard."
   ]
  },
  {
   "cell_type": "code",
   "execution_count": 2,
   "metadata": {},
   "outputs": [],
   "source": [
    "# Problem 1.64\n",
    "Smolt_Reflection <- c(57.6, 54.8, 63.4, 57.0, 54.7, 42.3, 63.6, 55.5, 33.5, 63.3, 58.3, 42.1, 56.1, 47.8, 56.1, 55.9, 38.8, 49.7, 42.3, 45.6, 69.0, 50.4, 53.0, 38.3, 60.4, 49.3, 42.8, 44.5, 46.4, 44.3, 58.9, 42.1, 47.6, 47.9, 68.2, 46.6, 68.1, 42.8, 45.6, 47.3, 59.6, 37.8, 53.9, 43.2, 51.4, 64.5, 43.8, 42.7, 50.9, 43.8) "
   ]
  },
  {
   "cell_type": "code",
   "execution_count": 4,
   "metadata": {},
   "outputs": [
    {
     "data": {
      "text/html": [
       "50.87"
      ],
      "text/latex": [
       "50.87"
      ],
      "text/markdown": [
       "50.87"
      ],
      "text/plain": [
       "[1] 50.87"
      ]
     },
     "metadata": {},
     "output_type": "display_data"
    }
   ],
   "source": [
    "mean(Smolt_Reflection)"
   ]
  },
  {
   "cell_type": "code",
   "execution_count": 5,
   "metadata": {},
   "outputs": [
    {
     "data": {
      "text/html": [
       "49.5"
      ],
      "text/latex": [
       "49.5"
      ],
      "text/markdown": [
       "49.5"
      ],
      "text/plain": [
       "[1] 49.5"
      ]
     },
     "metadata": {},
     "output_type": "display_data"
    }
   ],
   "source": [
    "median(Smolt_Reflection)"
   ]
  },
  {
   "cell_type": "markdown",
   "metadata": {},
   "source": [
    "the mean and the median are very similar so i would go with the meean for the data."
   ]
  },
  {
   "cell_type": "code",
   "execution_count": 6,
   "metadata": {},
   "outputs": [
    {
     "data": {
      "text/html": [
       "8.7555987918635"
      ],
      "text/latex": [
       "8.7555987918635"
      ],
      "text/markdown": [
       "8.7555987918635"
      ],
      "text/plain": [
       "[1] 8.755599"
      ]
     },
     "metadata": {},
     "output_type": "display_data"
    }
   ],
   "source": [
    "# Problem 1.65\n",
    "sd(Smolt_Reflection)"
   ]
  },
  {
   "cell_type": "code",
   "execution_count": 10,
   "metadata": {},
   "outputs": [
    {
     "data": {
      "text/html": [
       "<dl class=dl-horizontal>\n",
       "\t<dt>0%</dt>\n",
       "\t\t<dd>33.5</dd>\n",
       "\t<dt>25%</dt>\n",
       "\t\t<dd>43.8</dd>\n",
       "\t<dt>50%</dt>\n",
       "\t\t<dd>49.5</dd>\n",
       "\t<dt>75%</dt>\n",
       "\t\t<dd>56.775</dd>\n",
       "\t<dt>100%</dt>\n",
       "\t\t<dd>69</dd>\n",
       "</dl>\n"
      ],
      "text/latex": [
       "\\begin{description*}\n",
       "\\item[0\\textbackslash{}\\%] 33.5\n",
       "\\item[25\\textbackslash{}\\%] 43.8\n",
       "\\item[50\\textbackslash{}\\%] 49.5\n",
       "\\item[75\\textbackslash{}\\%] 56.775\n",
       "\\item[100\\textbackslash{}\\%] 69\n",
       "\\end{description*}\n"
      ],
      "text/markdown": [
       "0%\n",
       ":   33.525%\n",
       ":   43.850%\n",
       ":   49.575%\n",
       ":   56.775100%\n",
       ":   69\n",
       "\n"
      ],
      "text/plain": [
       "    0%    25%    50%    75%   100% \n",
       "33.500 43.800 49.500 56.775 69.000 "
      ]
     },
     "metadata": {},
     "output_type": "display_data"
    }
   ],
   "source": [
    "quantile(Smolt_Reflection)"
   ]
  },
  {
   "cell_type": "markdown",
   "metadata": {},
   "source": [
    "I prefer the standard deviation since the data seems to have a few outliers"
   ]
  },
  {
   "cell_type": "code",
   "execution_count": 11,
   "metadata": {},
   "outputs": [
    {
     "data": {
      "text/html": [
       "12.975"
      ],
      "text/latex": [
       "12.975"
      ],
      "text/markdown": [
       "12.975"
      ],
      "text/plain": [
       "[1] 12.975"
      ]
     },
     "metadata": {},
     "output_type": "display_data"
    }
   ],
   "source": [
    "IQR(Smolt_Reflection)"
   ]
  },
  {
   "cell_type": "code",
   "execution_count": 15,
   "metadata": {},
   "outputs": [
    {
     "data": {
      "text/html": [
       "68.9625"
      ],
      "text/latex": [
       "68.9625"
      ],
      "text/markdown": [
       "68.9625"
      ],
      "text/plain": [
       "[1] 68.9625"
      ]
     },
     "metadata": {},
     "output_type": "display_data"
    },
    {
     "data": {
      "text/html": [
       "30.0375"
      ],
      "text/latex": [
       "30.0375"
      ],
      "text/markdown": [
       "30.0375"
      ],
      "text/plain": [
       "[1] 30.0375"
      ]
     },
     "metadata": {},
     "output_type": "display_data"
    }
   ],
   "source": [
    "median(Smolt_Reflection) + 1.5* IQR(Smolt_Reflection)\n",
    "median(Smolt_Reflection) - 1.5*IQR(Smolt_Reflection)\n",
    "\n",
    "# there are no outliers"
   ]
  },
  {
   "cell_type": "code",
   "execution_count": 16,
   "metadata": {},
   "outputs": [
    {
     "data": {
      "image/png": "[encoded data removed]",
      "text/plain": [
       "plot without title"
      ]
     },
     "metadata": {},
     "output_type": "display_data"
    }
   ],
   "source": [
    "boxplot(Smolt_Reflection)"
   ]
  },
  {
   "cell_type": "code",
   "execution_count": 19,
   "metadata": {},
   "outputs": [
    {
     "name": "stdout",
     "output_type": "stream",
     "text": [
      "\n",
      "  The decimal point is 1 digit(s) to the right of the |\n",
      "\n",
      "  3 | 4\n",
      "  3 | 889\n",
      "  4 | 22223333444\n",
      "  4 | 5666778889\n",
      "  5 | 001134\n",
      "  5 | 5566667889\n",
      "  6 | 00334\n",
      "  6 | 5889\n",
      "\n"
     ]
    }
   ],
   "source": [
    "stem(Smolt_Reflection)"
   ]
  },
  {
   "cell_type": "markdown",
   "metadata": {},
   "source": [
    "The stemlpot allows you to see the actual numbers of the data while the box plot allows you to see quickly where the 5 point summary is this allows for different descriptions of the data to be seen."
   ]
  },
  {
   "cell_type": "code",
   "execution_count": null,
   "metadata": {
    "collapsed": true
   },
   "outputs": [],
   "source": []
  }
 ],
 "metadata": {
  "kernelspec": {
   "display_name": "R",
   "language": "R",
   "name": "ir"
  },
  "language_info": {
   "codemirror_mode": "r",
   "file_extension": ".r",
   "mimetype": "text/x-r-source",
   "name": "R",
   "pygments_lexer": "r",
   "version": "3.4.1"
  }
 },
 "nbformat": 4,
 "nbformat_minor": 2
}
